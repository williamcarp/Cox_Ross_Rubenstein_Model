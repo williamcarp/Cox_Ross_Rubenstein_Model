{
  "nbformat": 4,
  "nbformat_minor": 0,
  "metadata": {
    "colab": {
      "name": "Cox_Ross_Rubenstein.ipynb",
      "provenance": [],
      "toc_visible": true
    },
    "kernelspec": {
      "name": "python3",
      "display_name": "Python 3"
    },
    "language_info": {
      "name": "python"
    }
  },
  "cells": [
    {
      "cell_type": "code",
      "metadata": {
        "id": "4ugOjryI31w4"
      },
      "source": [
        "# Load the Drive helper and mount\n",
        "from google.colab import drive"
      ],
      "execution_count": null,
      "outputs": []
    },
    {
      "cell_type": "code",
      "metadata": {
        "id": "zTDrhMwl3-QO"
      },
      "source": [
        "from google.colab import drive\n",
        "drive.mount('/content/drive')"
      ],
      "execution_count": null,
      "outputs": []
    },
    {
      "cell_type": "markdown",
      "metadata": {
        "id": "pJqGx7XE4EpP"
      },
      "source": [
        "# New Section"
      ]
    },
    {
      "cell_type": "markdown",
      "metadata": {
        "id": "gyfaUSLG15Ri"
      },
      "source": [
        "# **The Cox-Ross-Rubenstein Binomial Model**\n",
        "\n",
        "## Overview\n",
        "\n",
        "See the document \"Cox_Ross_Rubenstein.pdf\" for a detailed discussion of the model, which includes derivations.\n",
        "\n",
        "Parameters of the model involve having a probability $p$ and movements $u$ and $d$ for change in the value of the asset as it moves up and down within the tree model. \n",
        "\n",
        "<center>\n",
        "$ u = e^{\\sigma \\sqrt{\\Delta}}$\n",
        "\n",
        "$ d = e^{-\\sigma \\sqrt{\\Delta}} $\n",
        "\n",
        "$ p = \\frac{e^{r\\Delta} - d}{u - d}$\n",
        "</center>\n",
        "\n",
        "\n",
        "With these three formulas, we can construct a CRR binomial tree building program that takes as input the following arguments:\n",
        "\n",
        "\n",
        "## Volatility $\\sigma$\n",
        "\n",
        "Annualized Volatility can be estimated from historical time series data \n",
        "on a particular stock or inferred from prevailing derivative prices. \n",
        "\n",
        "Using historical data, denote the daily log-return of an equity: \n",
        "\n",
        "<center>\n",
        "$\\tilde{g}_t = ln\\left( \\frac{S_t}{S_{t-1}} \\right)$\n",
        "</center>\n",
        "\n",
        "Find the standard deviation of log-returns over $n$ days to generate an estimate of daily volatility:\n",
        "\n",
        "<center>\n",
        "$\\bar{\\sigma} = \\sqrt{\\frac{1}{n-1}(\\tilde{g}_t - \\mathbb{E}[\\tilde{g}])^2}$ \n",
        "</center>\n",
        "\n",
        "The bar for $\\bar{\\sigma}$ is used to denote a *daily* volatility. Inputs into the CRR model (and Black-Scholes for that matter) require volatility to be annualized. There are many different conventions for annualizing a daily volatility based on days in the year. The NYSE officially states that a year contains 253 trading days so that value is used:\n",
        "\n",
        "<center>\n",
        "$\\sigma = \\bar{\\sigma} * \\sqrt{253}$\n",
        "</center>\n",
        "\n",
        "## Riskless Interest Rate $r$\n",
        "\n",
        "Use the continously compounded yield on a T-bill with the nearest maturity.\n",
        "\n",
        "\n"
      ]
    },
    {
      "cell_type": "code",
      "metadata": {
        "id": "GTpdYP6o11c7",
        "colab": {
          "base_uri": "https://localhost:8080/"
        },
        "outputId": "ccf78eab-fb08-4cad-8865-4f7c9d459c89"
      },
      "source": [
        "import math\n",
        "import numpy as np\n",
        "\n",
        "def crr_tree(s, k, r, T, t, v):\n",
        "\n",
        "    # s  : spot price \n",
        "    # k  : strike \n",
        "    # r  : riskless rate\n",
        "    # T  : maturity (in yrs.)\n",
        "    # t : steps \n",
        "    # v  : annualized volatility\n",
        "\n",
        "    # Tree is created as a two dimentional array \n",
        "    # Fill in tree accordingly \n",
        "\n",
        "    # Calculate time increment \n",
        "    dt = T / t \n",
        "    # Initialize tree\n",
        "\n",
        "    # should be equal to (t, t)  \n",
        "    \n",
        "    crrTree = np.zeros((t, t)) \n",
        "    crrTree[0,0] = s\n",
        "\n",
        "    # Initialize tree parameters \n",
        "    u = math.exp(v*math.sqrt(dt))\n",
        "    d = 1/u\n",
        "    p = (math.exp(r*dt) - d)/(u - d)\n",
        "\n",
        "    # print the stock price tree\n",
        "    #printing the 2D-Array\n",
        "    \n",
        "    print(\"\\nCRR Stock Price Tree:\\n\")\n",
        "    for i in crrTree:\n",
        "        for j in i:\n",
        "            print(j, end=\" \")\n",
        "        print() \n",
        "    print(\"\\n\")\n",
        "\n",
        "\n",
        "# Testing \n",
        "crr_tree(65, 65, 0.01, 5/12, 10, 0.450)\n",
        "\n",
        "\n",
        "\n",
        "\n"
      ],
      "execution_count": 10,
      "outputs": [
        {
          "output_type": "stream",
          "text": [
            "\n",
            "CRR Stock Price Tree:\n",
            "\n",
            "65.0 0.0 0.0 0.0 0.0 0.0 0.0 0.0 0.0 0.0 \n",
            "0.0 0.0 0.0 0.0 0.0 0.0 0.0 0.0 0.0 0.0 \n",
            "0.0 0.0 0.0 0.0 0.0 0.0 0.0 0.0 0.0 0.0 \n",
            "0.0 0.0 0.0 0.0 0.0 0.0 0.0 0.0 0.0 0.0 \n",
            "0.0 0.0 0.0 0.0 0.0 0.0 0.0 0.0 0.0 0.0 \n",
            "0.0 0.0 0.0 0.0 0.0 0.0 0.0 0.0 0.0 0.0 \n",
            "0.0 0.0 0.0 0.0 0.0 0.0 0.0 0.0 0.0 0.0 \n",
            "0.0 0.0 0.0 0.0 0.0 0.0 0.0 0.0 0.0 0.0 \n",
            "0.0 0.0 0.0 0.0 0.0 0.0 0.0 0.0 0.0 0.0 \n",
            "0.0 0.0 0.0 0.0 0.0 0.0 0.0 0.0 0.0 0.0 \n",
            "\n",
            "\n"
          ],
          "name": "stdout"
        }
      ]
    },
    {
      "cell_type": "code",
      "metadata": {
        "id": "l2lbz02a4Rx2"
      },
      "source": [
        "# testing "
      ],
      "execution_count": null,
      "outputs": []
    },
    {
      "cell_type": "markdown",
      "metadata": {
        "id": "oWLZmdzzM0BE"
      },
      "source": [
        "# European Calls and Puts\n",
        "\n",
        "## Binomial Tree Pricing \n",
        "\n",
        "For review, a European call option is a derivative contract that gives a buyer the right, but not the obligation, to purchase an asset for a specified price $k$ at a future date in time. This purchase price is commonly referred to as the **strike price.** The formula for the payoff of a European call at maturity is:\n",
        "\n",
        "$\\hspace{1.5em} Call: \\: (S_T - k, 0)^+$\n",
        "\n",
        "$\\hspace{1.5em} Put: \\:  (k - S_T, 0)^+$\n",
        "\n",
        "Above the $(...)^+$ is used to represent the $max(...)$ function, which is common in financial literature. \n",
        "\n",
        "Once a binomial CRR is generated, the following iterative formula can be implemented to price a European call:"
      ]
    },
    {
      "cell_type": "code",
      "metadata": {
        "id": "Enh92CNeW6gj"
      },
      "source": [
        ""
      ],
      "execution_count": null,
      "outputs": []
    }
  ]
}