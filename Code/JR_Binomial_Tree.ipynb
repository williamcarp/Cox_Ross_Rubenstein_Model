{
  "nbformat": 4,
  "nbformat_minor": 0,
  "metadata": {
    "colab": {
      "name": "JR_Binomial_Tree.ipynb",
      "provenance": [],
      "collapsed_sections": [],
      "mount_file_id": "1BzRYrhsxfhyzWHdbQedfY0seHQfNc7Dd",
      "authorship_tag": "ABX9TyPMcfmfPE4RAK9ZEXy8f1iu",
      "include_colab_link": true
    },
    "kernelspec": {
      "name": "python3",
      "display_name": "Python 3"
    },
    "language_info": {
      "name": "python"
    }
  },
  "cells": [
    {
      "cell_type": "markdown",
      "metadata": {
        "id": "view-in-github",
        "colab_type": "text"
      },
      "source": [
        "<a href=\"https://colab.research.google.com/github/williamcarp/Equity-Derivative-Models/blob/main/Code/JR_Binomial_Tree.ipynb\" target=\"_parent\"><img src=\"https://colab.research.google.com/assets/colab-badge.svg\" alt=\"Open In Colab\"/></a>"
      ]
    },
    {
      "cell_type": "markdown",
      "metadata": {
        "id": "blvVFpoRgFjK"
      },
      "source": [
        "# Jarrow-Rudd (JR) Binomial Tree Model\n",
        "\n",
        "Author: Will Carpenter\n",
        "\n",
        "Date Created: April 1st, 2021\n",
        "\n",
        "Github Path: Code/JR_Binomial_Tree.ipynb\n",
        "\n",
        "Implementation of the Jarrow-Rudd binomial tree model for pricing equity derivatives. \n",
        "\n",
        "Runtime complexity: O(n^2)\n",
        "\n",
        "Space complexity: O(n)"
      ]
    },
    {
      "cell_type": "code",
      "metadata": {
        "id": "wuv5js8MvWGK"
      },
      "source": [
        "import math \n",
        "import numpy as np \n",
        "import matplotlib.pyplot as plt\n",
        "from numpy import genfromtxt\n",
        "from scipy.stats import norm # Cumulative normal distribution\n",
        "from scipy.optimize import fsolve # non-linear root-finding"
      ],
      "execution_count": null,
      "outputs": []
    },
    {
      "cell_type": "code",
      "metadata": {
        "id": "mBSiGQdNu7jL"
      },
      "source": [
        "def jr_binomial_tree(S, K, r, T, t, v, style, type):\n",
        "\n",
        "    # S  : spot price \n",
        "    # K  : strike \n",
        "    # r  : riskless rate\n",
        "    # T  : maturity (in yrs.)\n",
        "    # t  : number of steps \n",
        "    # v  : annualized volatility\n",
        "\n",
        "    # style : 'amer' or 'euro'\n",
        "    # type  : 'call' or 'put\n",
        "\n",
        "    # Calculate time increment \n",
        "    dt = T / t\n",
        "\n",
        "    # Set type of option \n",
        "    if type=='call': x = 1 \n",
        "    if type=='put' : x = -1 \n",
        "\n",
        "    # Initialize tree\n",
        "    jrTree        = np.empty((t+1,1))\n",
        "    jrTree[:]     = np.nan\n",
        "\n",
        "    # Initialize tree parameters \n",
        "    u = math.exp((r - v**2/2)*dt + v*math.sqrt(dt))\n",
        "    d = math.exp((r - v**2/2)*dt - v*math.sqrt(dt))\n",
        "    p = 1/2\n",
        "\n",
        "    for row in range(0,t+1):\n",
        "        St = S*u**(t-row)*d**(row)\n",
        "        jrTree[row, 0] = max(x*St - x*K, 0)\n",
        "\n",
        "    for col in range(t-1, -1, -1):\n",
        "        for row in range(0, col+1):\n",
        "\n",
        "            # Determine value of early excercise \n",
        "            if style=='euro':   earlyExercise = np.NINF\n",
        "            if style=='amer':   earlyExercise = x*S*u**(col-row)*d**(row) - x*K\n",
        "\n",
        "            # Backward iteration from previous nodes\n",
        "            Pu = jrTree[row, 0]\n",
        "            Pd = jrTree[row+1, 0]\n",
        "            \n",
        "            # Determine continuation value\n",
        "            continuation = math.exp(-r*dt)*(p*Pu + (1-p)*Pd)\n",
        "\n",
        "            # Calcuate price on at tree node\n",
        "            jrTree[row, 0] = max(continuation, earlyExercise)\n",
        "\n",
        "    return jrTree[0,0]\n"
      ],
      "execution_count": null,
      "outputs": []
    }
  ]
}