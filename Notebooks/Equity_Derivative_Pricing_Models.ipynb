{
  "nbformat": 4,
  "nbformat_minor": 0,
  "metadata": {
    "colab": {
      "name": "Equity_Derivative_Pricing_Models.ipynb",
      "provenance": [],
      "collapsed_sections": [],
      "mount_file_id": "1udOkKyUnydNtUbOvecyr_7Do7H-7YHkJ",
      "authorship_tag": "ABX9TyN0W5wNy13SLTSoaPicj0Gf",
      "include_colab_link": true
    },
    "kernelspec": {
      "name": "python3",
      "display_name": "Python 3"
    },
    "language_info": {
      "name": "python"
    }
  },
  "cells": [
    {
      "cell_type": "markdown",
      "metadata": {
        "id": "view-in-github",
        "colab_type": "text"
      },
      "source": [
        "<a href=\"https://colab.research.google.com/github/williamcarp/Equity-Derivative-Models/blob/main/Notebooks/Equity_Derivative_Pricing_Models.ipynb\" target=\"_parent\"><img src=\"https://colab.research.google.com/assets/colab-badge.svg\" alt=\"Open In Colab\"/></a>"
      ]
    },
    {
      "cell_type": "markdown",
      "metadata": {
        "id": "wbhgBiUF8t9f"
      },
      "source": [
        "# **Equity Derivative Pricing Models**\n",
        "\n",
        "Author:       Will Carpenter\n",
        "\n",
        "Date Created: April 1st, 2021\n",
        "\n",
        "Github Path: Notebooks/Equity_Derivative_Pricing_Models.ipynb\n",
        "\n",
        "Models Implemented: CRR Binomial, CRR Trinomial, JR Binomial, and Black-Scholes Formula.\n",
        "\n"
      ]
    },
    {
      "cell_type": "markdown",
      "metadata": {
        "id": "mK4W8soCApja"
      },
      "source": [
        "## Importing"
      ]
    },
    {
      "cell_type": "code",
      "metadata": {
        "id": "jJyERZY38HJ2"
      },
      "source": [
        "import math \n",
        "import numpy as np \n",
        "import pandas as pd\n",
        "import matplotlib.pyplot as plt\n",
        "from numpy import genfromtxt\n",
        "from scipy.stats import norm # Cumulative normal distribution\n",
        "from scipy.optimize import fsolve # non-linear root-finding"
      ],
      "execution_count": null,
      "outputs": []
    },
    {
      "cell_type": "markdown",
      "metadata": {
        "id": "qtZZqn3h9Dyn"
      },
      "source": [
        "## CRR Binomial Tree \n",
        "\n",
        "The CRR binomial tree program is given below.\n",
        "\n",
        "Space should be O(n). Runtime is O(n^2). "
      ]
    },
    {
      "cell_type": "code",
      "metadata": {
        "id": "LUOAdk53Ty8U"
      },
      "source": [
        "def crr_binomial_tree(S, K, r, T, t, v, style, type):\n",
        "\n",
        "    # S  : spot price \n",
        "    # K  : strike \n",
        "    # r  : riskless rate\n",
        "    # T  : maturity (in yrs.)\n",
        "    # t  : number of steps \n",
        "    # v  : annualized volatility\n",
        "    # style : 'amer' or 'euro'\n",
        "    # type  : 'call' or 'put\n",
        "\n",
        "    # Calculate time increment \n",
        "    dt = T / t \n",
        "    \n",
        "    # Set type of option \n",
        "    if type=='call': x = 1 \n",
        "    if type=='put' : x = -1 \n",
        "    \n",
        "    # Initialize tree  \n",
        "    crrTree      = np.empty((t+1,1))\n",
        "    crrTree[:]   = np.nan\n",
        "\n",
        "    # Initialize tree parameters \n",
        "    u = math.exp(v*math.sqrt(dt))\n",
        "    d = 1/u\n",
        "    p = (math.exp(r*dt) - d)/(u - d)\n",
        "\n",
        "    # Calculate terminal payoffs \n",
        "    for row in range(0,t+1):\n",
        "        St = S*u**(t-row)*d**(row)\n",
        "        crrTree[row, 0] = max(x*St - x*K, 0)\n",
        "\n",
        "    for col in range(t-1, -1, -1):\n",
        "        for row in range(0, col+1):\n",
        "            \n",
        "            # Determine value of early excercise \n",
        "            if style=='euro': earlyExercise = np.NINF\n",
        "            if style=='amer': earlyExercise = x*S*u**(col-row)*d**(row) - x*K\n",
        "\n",
        "            # Backward iteration from previous nodes\n",
        "            Pu = crrTree[row, 0]\n",
        "            Pd = crrTree[row+1, 0]\n",
        "            # Determine continuation value \n",
        "            continuation = math.exp(-r*dt)*(p*Pu + (1-p)*Pd)\n",
        "            \n",
        "            # Calcuate price on at tree node\n",
        "            crrTree[row, 0] = max(continuation, earlyExercise)\n",
        "\n",
        "    return crrTree[0,0]"
      ],
      "execution_count": null,
      "outputs": []
    },
    {
      "cell_type": "markdown",
      "metadata": {
        "id": "y29sKDUg43KW"
      },
      "source": [
        "## CRR Trinomial Tree"
      ]
    },
    {
      "cell_type": "code",
      "metadata": {
        "id": "aGu-H6Ek4v_u"
      },
      "source": [
        "def crr_trinomial_tree(S, K, r, T, t, v, style, type):\n",
        "\n",
        "    # S  : spot price \n",
        "    # K  : strike \n",
        "    # r  : riskless rate\n",
        "    # T  : maturity (in yrs.)\n",
        "    # t  : number of steps \n",
        "    # v  : annualized volatility\n",
        "    # style : 'amer' or 'euro'\n",
        "    # type  : 'call' or 'put\n",
        "\n",
        "    # Calculate time increment \n",
        "    dt = T / t\n",
        "\n",
        "    # Set type of option \n",
        "    if type=='call': x = 1 \n",
        "    if type=='put' : x = -1 \n",
        "\n",
        "    # Initialize tree  \n",
        "    crrTree        = np.empty((2*t+1,1))\n",
        "    crrTree[:]     = np.nan\n",
        "\n",
        "    # Initialize tree parameters \n",
        "    u = math.exp(v*math.sqrt(2*dt))\n",
        "    d = 1/u\n",
        "    m = 1\n",
        "    \n",
        "    # Pu\n",
        "    pu = ((math.exp(r*dt/2) - math.exp(-1*v*math.sqrt(dt/2))) / \n",
        "         (math.exp(v*math.sqrt(dt/2)) - math.exp(-1*v*math.sqrt(dt/2))))**2\n",
        "    # Pd\n",
        "    pd = ((math.exp(v*math.sqrt(dt/2)) - math.exp(r*dt/2)) /\n",
        "         (math.exp(v*math.sqrt(dt/2)) - math.exp(-1*v*math.sqrt(dt/2))))**2\n",
        "    # Pm\n",
        "    pm = 1 - (pu + pd)\n",
        "\n",
        "    for row in range(0, 2*t+1):\n",
        "        St = S*u**(max(t-row,0))*d**(max(row-t,0))\n",
        "        crrTree[row, 0] = max(x*St-x*K,0)\n",
        "\n",
        "\n",
        "    for col in range(t-1, -1, -1):\n",
        "        for row in range(0, col*2+1):\n",
        "\n",
        "            # Determine value of early excercise \n",
        "            if style=='euro': earlyExercise = np.NINF\n",
        "            if style=='amer': earlyExercise = x*S*u**(max(col-row,0))*d**(max(row-col,0)) - x*K\n",
        "            \n",
        "            # move backwards from previous prices \n",
        "            Su = crrTree[row,  0]\n",
        "            Sm = crrTree[row+1,0]\n",
        "            Sd = crrTree[row+2,0]\n",
        "            # Calcuate price on tree\n",
        "            continuation = math.exp(-r*dt)*(pu*Su + pm*Sm + pd*Sd)\n",
        "\n",
        "            # Determine price at current node\n",
        "            crrTree[row, 0] = max(continuation, earlyExercise)\n",
        "\n",
        "    return crrTree[0,0]"
      ],
      "execution_count": null,
      "outputs": []
    },
    {
      "cell_type": "markdown",
      "metadata": {
        "id": "7UHfChBNcYv-"
      },
      "source": [
        "## Jarrow-Rudd Binomial Tree\n",
        "\n",
        "An adaptation of the CRR market model where it is assumed that probability is equal to 1/2 through the tree."
      ]
    },
    {
      "cell_type": "code",
      "metadata": {
        "id": "C5f3c_0ccXoG"
      },
      "source": [
        "def jr_binomial_tree(S, K, r, T, t, v, style, type):\n",
        "\n",
        "    # S  : spot price \n",
        "    # K  : strike \n",
        "    # r  : riskless rate\n",
        "    # T  : maturity (in yrs.)\n",
        "    # t  : number of steps \n",
        "    # v  : annualized volatility\n",
        "    # style : 'amer' or 'euro'\n",
        "    # type  : 'call' or 'put\n",
        "\n",
        "    # Calculate time increment \n",
        "    dt = T / t\n",
        "\n",
        "    # Set type of option \n",
        "    if type=='call': x = 1 \n",
        "    if type=='put' : x = -1 \n",
        "\n",
        "    # Initialize array\n",
        "    jrTree        = np.empty((t+1,1))\n",
        "    jrTree[:]     = np.nan\n",
        "\n",
        "    # Initialize tree parameters \n",
        "    u = math.exp((r - v**2/2)*dt + v*math.sqrt(dt))\n",
        "    d = math.exp((r - v**2/2)*dt - v*math.sqrt(dt))\n",
        "    p = 1/2\n",
        "\n",
        "    # Calculate terminal payoffs \n",
        "    for row in range(0,t+1):\n",
        "        St = S*u**(t-row)*d**(row)\n",
        "        jrTree[row, 0] = max(x*St - x*K, 0)\n",
        "\n",
        "    for col in range(t-1, -1, -1):\n",
        "        for row in range(0, col+1):\n",
        "\n",
        "            # Determine value of early excercise \n",
        "            if style=='euro': earlyExercise = np.NINF\n",
        "            if style=='amer': earlyExercise = x*S*u**(col-row)*d**(row) - x*K\n",
        "\n",
        "            # Backward iteration from previous nodes\n",
        "            Pu = jrTree[row,  0]\n",
        "            Pd = jrTree[row+1,0]\n",
        "            \n",
        "            # Determine continuation value\n",
        "            continuation = math.exp(-r*dt)*(p*Pu + (1-p)*Pd)\n",
        "\n",
        "            # Calcuate price on at tree node\n",
        "            jrTree[row, 0] = max(continuation, earlyExercise)\n",
        "\n",
        "    return jrTree[0,0]"
      ],
      "execution_count": null,
      "outputs": []
    },
    {
      "cell_type": "markdown",
      "metadata": {
        "id": "tzwLhnbDbfXV"
      },
      "source": [
        "## Black-Scholes Option Pricing Formula\n",
        "\n",
        "By design, prices given by the CRR binomial and trinomial tree should converge to Black-Scholes pricing as the number of steps increases."
      ]
    },
    {
      "cell_type": "code",
      "metadata": {
        "id": "538X4Cw_sQT6"
      },
      "source": [
        "def black_scholes(S, K, r, T, t, v, style, type):\n",
        "\n",
        "    # Black-Scholes does not accomodate American options \n",
        "\n",
        "    # S  : spot price \n",
        "    # K  : strike \n",
        "    # r  : riskless rate\n",
        "    # T  : maturity (in yrs.)\n",
        "    # t  : number of steps \n",
        "    # v  : annualized volatility\n",
        "\n",
        "    # Set type of option \n",
        "    if type=='call': x = 1 \n",
        "    if type=='put' : x = -1 \n",
        "\n",
        "    d1 = (math.log(S/K) + (v**2/2 + r)*T)/(v*math.sqrt(T))\n",
        "    d2 = (d1 - v*math.sqrt(T))\n",
        "\n",
        "    return x*S*norm.cdf(x*d1) - x*K*math.exp(-r*T)*norm.cdf(x*d2)"
      ],
      "execution_count": null,
      "outputs": []
    },
    {
      "cell_type": "markdown",
      "metadata": {
        "id": "gb8Fx1Ka95lG"
      },
      "source": [
        "## Visualizing the CRR Binomial Tree\n",
        "\n",
        "Code for the CRR binomial tree can be expanded to include an additional array for the entire evolution of the underlying stock price. While this modification increases run-time and storage of the program, it is useful to have for de-bugging purposes. "
      ]
    },
    {
      "cell_type": "code",
      "metadata": {
        "id": "y4Fp5ziG42Oi"
      },
      "source": [
        "def crr_visualize_btree(S, K, r, T, t, v, style, type):\n",
        "\n",
        "    # s  : spot price \n",
        "    # k  : strike \n",
        "    # r  : riskless rate\n",
        "    # T  : maturity (in yrs.)\n",
        "    # t  : steps \n",
        "    # v  : annualized volatility\n",
        "\n",
        "    # Calculate time increment \n",
        "    dt = T / t \n",
        "    \n",
        "    # Set type of option \n",
        "    if type=='call': x = 1 \n",
        "    if type=='put' : x = -1 \n",
        "    \n",
        "    # Initialize tree  \n",
        "    crrTree, crrPrice         = np.empty((t+1,t+1)), np.empty((t+1,t+1)) \n",
        "    crrTree[:], crrPrice[:]   = np.nan, np.nan\n",
        "    \n",
        "    # Initial stock price\n",
        "    crrTree[0,0] = S\n",
        "    \n",
        "    # Initialize tree parameters \n",
        "    u = math.exp(v*math.sqrt(dt))\n",
        "    d = 1/u\n",
        "    p = (math.exp(r*dt) - d)/(u - d)\n",
        "\n",
        "    if d >= 1+r or u <= 1+r:\n",
        "        raise Exception(\"Martingale Property not satisfied.\")\n",
        "    \n",
        "    # Creating the stock price tree \n",
        "    # Fill in top branch \n",
        "    for col in range(1,len(crrTree)):\n",
        "        crrTree[0, col] = crrTree[0, col-1]*u\n",
        "    # Fill in rest of tree\n",
        "    for row in range(1, len(crrTree)):\n",
        "        for col in range(row, len(crrTree)):\n",
        "            crrTree[row, col] = crrTree[row-1, col-1]*d\n",
        "    \n",
        "    for row in range(0,t+1):\n",
        "        St = S*u**(t-row)*d**(row)\n",
        "        crrPrice[row, t] =  max(x*St - x*K, 0)\n",
        "\n",
        "    for col in range(t-1, -1, -1):\n",
        "        for row in range(0, col+1):\n",
        "\n",
        "            # Determine value of early excercise \n",
        "            if style=='euro': earlyExercise = np.NINF\n",
        "            if style=='amer': earlyExercise = x*crrTree[row, col] - x*K\n",
        "\n",
        "            # x*S*u**(col-row)*d**(row) - x*K\n",
        "\n",
        "            # move backwards from previous payoffs \n",
        "            Su = crrPrice[row, col+1]\n",
        "            Sd = crrPrice[row+1, col+1]\n",
        "\n",
        "            # Determine continuation value \n",
        "            continuation = math.exp(-r*dt)*(p*Su + (1-p)*Sd)\n",
        "        \n",
        "            # Calcuate price on tree\n",
        "            # crrPrice[row, col] = math.exp(-r*dt)*(p*Su + (1-p)*Sd)  \n",
        "            crrPrice[row, col] = max(continuation, earlyExercise)\n",
        "\n",
        "    # Added code for printing and de-bugging \n",
        "\n",
        "    # Reporting the model parameters\n",
        "    print()\n",
        "    print(\"Inputs:\\n\")\n",
        "    print(\"T : \" \"{:4.2f}\".format(T*12) + \" months\")\n",
        "    print(\"t : \" \"{:4.0f}\".format(t) + \" periods\")\n",
        "\n",
        "    print()\n",
        "    print(\"Tree Parameters:\\n\")\n",
        "    print(\"u : \" \"{:3.4f}\".format(u))\n",
        "    print(\"d : \" \"{:3.4f}\".format(d))\n",
        "    print(\"p : \" \"{:3.3f}\".format(p))\n",
        "\n",
        "    # Print the stock price tree    \n",
        "    print(\"\\nCRR Stock Price Tree:\\n\")\n",
        "    \n",
        "    # for i in range(0,len(crrTree)):\n",
        "    #     print(\"t = \" \"{:2.2f}\".format(i), end =\" \")\n",
        "    # print(\"\\n\")\n",
        "\n",
        "    for i in crrTree:\n",
        "        for j in i:\n",
        "            print(\"{:8.3f}\".format(j), end=\" \")\n",
        "        print() \n",
        "    print(\"\\n\")\n",
        "\n",
        "    # print the stock price tree    \n",
        "    print(\"\\nCRR Option Price Tree:\\n\")\n",
        "    for i in crrPrice:\n",
        "        for j in i:\n",
        "            print(\"{:8.3f}\".format(j), end=\" \")\n",
        "        print() \n",
        "    print(\"\\n\")\n",
        "\n",
        "    print(\"Option Price: $\" + \"{:6.2f}\".format(crrPrice[0,0]))\n",
        "    print(\"______________________________________________________________\")\n"
      ],
      "execution_count": null,
      "outputs": []
    },
    {
      "cell_type": "code",
      "metadata": {
        "colab": {
          "base_uri": "https://localhost:8080/"
        },
        "id": "4owYT1UicJMA",
        "outputId": "66a931d2-e388-4fcd-d361-44c4c4b20586"
      },
      "source": [
        "# number of steps\n",
        "steps = 500 \n",
        "\n",
        "name = 'Nordic American Tanker (NAT)'\n",
        "yahoo = 0.50\n",
        "crr_b_price =  crr_binomial_tree(3.31, 3.5, 0.0004, 0.688, steps, 0.5273,  'euro' , 'call')\n",
        "crr_t_price = crr_trinomial_tree(3.31, 3.5, 0.0004, 0.688, steps, 0.5273,  'euro' , 'call')\n",
        "jr_b_price  =   jr_binomial_tree(3.31, 3.5, 0.0004, 0.688, steps, 0.5273,  'euro' , 'call')\n",
        "bs_price    =      black_scholes(3.31, 3.5, 0.0004, 0.688, steps, 0.5273,  'euro' , 'call')\n",
        "print(\"________________________________________________________________\\n\")\n",
        "print(name)\n",
        "print(\"CRR Binomial Call Price:  $\" + \"{:3.2f}\".format(crr_b_price))\n",
        "print(\"CRR Trinomial Call Price: $\" + \"{:3.2f}\".format(crr_t_price))\n",
        "print(\"JR Binomial Call Price:   $\" + \"{:3.2f}\".format(jr_b_price))\n",
        "print(\"B-S Formula Call Price:   $\" + \"{:3.2f}\".format(bs_price))\n",
        "print(\"Yahoo Quoted Price:       $\" + \"{:3.2f}\".format(yahoo))\n",
        "\n",
        "\n",
        "name  = 'American Airlines Group Inc. (AAL)'\n",
        "yahoo = 1.08\n",
        "crr_b_price =  crr_binomial_tree(23.35, 24, 0.0001, 1/12, steps, 0.4902,  'euro' , 'call')\n",
        "crr_t_price = crr_trinomial_tree(23.35, 24, 0.0001, 1/12, steps, 0.4902,  'euro' , 'call')\n",
        "jr_b_price  =   jr_binomial_tree(23.35, 24, 0.0001, 1/12, steps, 0.4902,  'euro' , 'call')\n",
        "bs_price    =      black_scholes(23.35, 24, 0.0001, 1/12, steps, 0.4902,  'euro' , 'call')\n",
        "print(\"________________________________________________________________\\n\")\n",
        "print(name)\n",
        "print(\"CRR Binomial Call Price:  $\" + \"{:3.2f}\".format(crr_b_price))\n",
        "print(\"CRR Trinomial Call Price: $\" + \"{:3.2f}\".format(crr_t_price))\n",
        "print(\"JR Binomial Call Price:   $\" + \"{:3.2f}\".format(jr_b_price))\n",
        "print(\"B-S Formula Call Price:   $\" + \"{:3.2f}\".format(bs_price))\n",
        "print(\"Yahoo Quoted Price:       $\" + \"{:3.2f}\".format(yahoo))\n",
        "\n",
        "name  = 'Monster Beverage Corp. (MSNT)'\n",
        "yahoo = 3.90\n",
        "crr_b_price =  crr_binomial_tree(91.35, 95.00, 0.0002, 4/12, steps, 0.27,  'euro' , 'call')\n",
        "crr_t_price = crr_trinomial_tree(91.35, 95.00, 0.0002, 4/12, steps, 0.27,  'euro' , 'call')\n",
        "jr_b_price  =   jr_binomial_tree(91.35, 95.00, 0.0002, 4/12, steps, 0.27,  'euro' , 'call')\n",
        "bs_price    =      black_scholes(91.35, 95.00, 0.0002, 4/12, steps, 0.27,  'euro' , 'call')\n",
        "print(\"________________________________________________________________\\n\")\n",
        "print(name)\n",
        "print(\"CRR Binomial Call Price:  $\" + \"{:3.2f}\".format(crr_b_price))\n",
        "print(\"CRR Trinomial Call Price: $\" + \"{:3.2f}\".format(crr_t_price))\n",
        "print(\"JR Binomial Call Price:   $\" + \"{:3.2f}\".format(jr_b_price))\n",
        "print(\"B-S Formula Call Price:   $\" + \"{:3.2f}\".format(bs_price))\n",
        "print(\"Yahoo Quoted Price:       $\" + \"{:3.2f}\".format(yahoo))\n",
        "\n",
        "\n",
        "name  = 'Lithium Americas Corp. (LAC)'\n",
        "yahoo = 0.55\n",
        "crr_b_price =  crr_binomial_tree(13.25, 15.00, 0.0001, 1/12, steps, 0.7471,  'euro' , 'call')\n",
        "crr_t_price = crr_trinomial_tree(13.25, 15.00, 0.0001, 1/12, steps, 0.7471,  'euro' , 'call')\n",
        "jr_b_price  =   jr_binomial_tree(13.25, 15.00, 0.0001, 1/12, steps, 0.7471,  'euro' , 'call')\n",
        "bs_price    =      black_scholes(13.25, 15.00, 0.0001, 1/12, steps, 0.7471,  'euro' , 'call')\n",
        "print(\"________________________________________________________________\\n\")\n",
        "print(name)\n",
        "print(\"CRR Binomial Call Price:  $\" + \"{:3.2f}\".format(crr_b_price))\n",
        "print(\"CRR Trinomial Call Price: $\" + \"{:3.2f}\".format(crr_t_price))\n",
        "print(\"JR Binomial Call Price:   $\" + \"{:3.2f}\".format(jr_b_price))\n",
        "print(\"B-S Formula Call Price:   $\" + \"{:3.2f}\".format(bs_price))\n",
        "print(\"Yahoo Quoted Price:       $\" + \"{:3.2f}\".format(yahoo))\n",
        "\n",
        "\n",
        "name  = 'CBOE VIX Index'\n",
        "yahoo = 3.22\n",
        "crr_b_price =  crr_binomial_tree(19.52, 20.00, 0.0001, 1/12, steps, 1.5195,  'euro' , 'call')\n",
        "crr_t_price = crr_trinomial_tree(19.52, 20.00, 0.0001, 1/12, steps, 1.5195,  'euro' , 'call')\n",
        "jr_b_price  =   jr_binomial_tree(19.52, 20.00, 0.0001, 1/12, steps, 1.5195,  'euro' , 'call')\n",
        "bs_price    =      black_scholes(19.52, 20.00, 0.0001, 1/12, steps, 1.5195,  'euro' , 'call')\n",
        "print(\"________________________________________________________________\\n\")\n",
        "print(name)\n",
        "print(\"CRR Binomial Call Price:  $\" + \"{:3.2f}\".format(crr_b_price))\n",
        "print(\"CRR Trinomial Call Price: $\" + \"{:3.2f}\".format(crr_t_price))\n",
        "print(\"JR Binomial Call Price:   $\" + \"{:3.2f}\".format(jr_b_price))\n",
        "print(\"B-S Formula Call Price:   $\" + \"{:3.2f}\".format(bs_price))\n",
        "print(\"Yahoo Quoted Price:       $\" + \"{:3.2f}\".format(yahoo))\n"
      ],
      "execution_count": null,
      "outputs": [
        {
          "output_type": "stream",
          "text": [
            "________________________________________________________________\n",
            "\n",
            "Nordic American Tanker (NAT)\n",
            "CRR Binomial Call Price:  $0.50\n",
            "CRR Trinomial Call Price: $0.50\n",
            "JR Binomial Call Price:   $0.50\n",
            "B-S Formula Call Price:   $0.50\n",
            "Yahoo Quoted Price:       $0.50\n",
            "________________________________________________________________\n",
            "\n",
            "American Airlines Group Inc. (AAL)\n",
            "CRR Binomial Call Price:  $1.04\n",
            "CRR Trinomial Call Price: $1.04\n",
            "JR Binomial Call Price:   $1.04\n",
            "B-S Formula Call Price:   $1.04\n",
            "Yahoo Quoted Price:       $1.08\n",
            "________________________________________________________________\n",
            "\n",
            "Monster Beverage Corp. (MSNT)\n",
            "CRR Binomial Call Price:  $4.15\n",
            "CRR Trinomial Call Price: $4.15\n",
            "JR Binomial Call Price:   $4.15\n",
            "B-S Formula Call Price:   $4.15\n",
            "Yahoo Quoted Price:       $3.90\n",
            "________________________________________________________________\n",
            "\n",
            "Lithium Americas Corp. (LAC)\n",
            "CRR Binomial Call Price:  $0.53\n",
            "CRR Trinomial Call Price: $0.53\n",
            "JR Binomial Call Price:   $0.53\n",
            "B-S Formula Call Price:   $0.53\n",
            "Yahoo Quoted Price:       $0.55\n",
            "________________________________________________________________\n",
            "\n",
            "CBOE VIX Index\n",
            "CRR Binomial Call Price:  $3.20\n",
            "CRR Trinomial Call Price: $3.20\n",
            "JR Binomial Call Price:   $3.19\n",
            "B-S Formula Call Price:   $3.20\n",
            "Yahoo Quoted Price:       $3.22\n"
          ],
          "name": "stdout"
        }
      ]
    },
    {
      "cell_type": "markdown",
      "metadata": {
        "id": "ApE5Bghkgdgc"
      },
      "source": [
        "### Option Price Convergence to Black-Scholes Formula\n",
        "\n",
        "By design, European option prices given by the CRR model should converge to prices given from the Black-Scholes option formula as the number of steps in the binomial tree approaches infinity. In practice, it is not realistic to price with a tree that has more than a few hundred steps, but it is possible to see some convergence when the number of steps goes beyond 25-50 in most cases. "
      ]
    },
    {
      "cell_type": "code",
      "metadata": {
        "colab": {
          "base_uri": "https://localhost:8080/",
          "height": 231
        },
        "id": "swTF8Xztc5dV",
        "outputId": "912c63e2-dc19-4ea5-be4e-cb4eff56977a"
      },
      "source": [
        "\n",
        "n = 20\n",
        "\n",
        "# Model Parameters \n",
        "S = 13.25\n",
        "K = 15\n",
        "r = 0.0001\n",
        "T = 1/12\n",
        "v = 0.7471\n",
        "style = 'euro'\n",
        "type  = 'call'\n",
        "\n",
        "# Initialize array \n",
        "optionPrices = np.empty((20,3))\n",
        "\n",
        "# Populate array\n",
        "for i in range(0,n):\n",
        "    steps = (i+1)*10 \n",
        "    optionPrices[i, 0] = steps\n",
        "    optionPrices[i, 1] = crr_binomial_tree(S, K, r, T, steps, v, style, type)\n",
        "    optionPrices[i, 2] = black_scholes(S, K, r, T, steps, v, style, type)\n",
        "\n",
        "print(optionPrices)\n",
        "print()\n",
        "\n",
        "plt.plot(optionPrices[:,0],optionPrices[:,1], label='CRR Price')\n",
        "plt.plot(optionPrices[:,0],optionPrices[:,2], label='B-S Price')\n",
        "plt.show()\n"
      ],
      "execution_count": null,
      "outputs": [
        {
          "output_type": "error",
          "ename": "NameError",
          "evalue": "ignored",
          "traceback": [
            "\u001b[0;31m---------------------------------------------------------------------------\u001b[0m",
            "\u001b[0;31mNameError\u001b[0m                                 Traceback (most recent call last)",
            "\u001b[0;32m<ipython-input-1-84f2bf573986>\u001b[0m in \u001b[0;36m<module>\u001b[0;34m()\u001b[0m\n\u001b[1;32m     12\u001b[0m \u001b[0;34m\u001b[0m\u001b[0m\n\u001b[1;32m     13\u001b[0m \u001b[0;31m# Initialize array\u001b[0m\u001b[0;34m\u001b[0m\u001b[0;34m\u001b[0m\u001b[0;34m\u001b[0m\u001b[0m\n\u001b[0;32m---> 14\u001b[0;31m \u001b[0moptionPrices\u001b[0m \u001b[0;34m=\u001b[0m \u001b[0mnp\u001b[0m\u001b[0;34m.\u001b[0m\u001b[0mempty\u001b[0m\u001b[0;34m(\u001b[0m\u001b[0;34m(\u001b[0m\u001b[0;36m20\u001b[0m\u001b[0;34m,\u001b[0m\u001b[0;36m3\u001b[0m\u001b[0;34m)\u001b[0m\u001b[0;34m)\u001b[0m\u001b[0;34m\u001b[0m\u001b[0;34m\u001b[0m\u001b[0m\n\u001b[0m\u001b[1;32m     15\u001b[0m \u001b[0;34m\u001b[0m\u001b[0m\n\u001b[1;32m     16\u001b[0m \u001b[0;31m# Populate array\u001b[0m\u001b[0;34m\u001b[0m\u001b[0;34m\u001b[0m\u001b[0;34m\u001b[0m\u001b[0m\n",
            "\u001b[0;31mNameError\u001b[0m: name 'np' is not defined"
          ]
        }
      ]
    },
    {
      "cell_type": "markdown",
      "metadata": {
        "id": "-knIpcQIjWTX"
      },
      "source": [
        "## Debugging Pricing Code \n",
        "\n",
        "Use some provided examples from coursework online to verify results \n",
        "for European and American pricing. \n",
        "\n",
        "Generally, it should be expected that the added excercise flexibility of American style options would make them more expensive to buy. The price of American options should be equal to, or greater than, the price of a European option with the same contract parameters. "
      ]
    },
    {
      "cell_type": "code",
      "metadata": {
        "id": "xyB44US3Va3L",
        "colab": {
          "base_uri": "https://localhost:8080/"
        },
        "outputId": "8a89f9a6-1f39-41c4-eaf9-6780c2c1db5c"
      },
      "source": [
        "# Theoretical example from practice question documents (Problem 18.12)\n",
        "# European put price should be $1.14\n",
        "# American put price should be $1.28\n",
        "\n",
        "crr_visualize_tree(20, 18, 0.15, 12/12, 4, 0.40, 'amer', 'put')\n",
        "crr_visualize_tree(20, 18, 0.15, 12/12, 4, 0.40, 'euro', 'put')"
      ],
      "execution_count": null,
      "outputs": [
        {
          "output_type": "stream",
          "text": [
            "\n",
            "Inputs:\n",
            "\n",
            "T : 12.00 months\n",
            "t :    4 periods\n",
            "\n",
            "Tree Parameters:\n",
            "\n",
            "u : 1.2214\n",
            "d : 0.8187\n",
            "p : 0.545\n",
            "\n",
            "CRR Stock Price Tree:\n",
            "\n",
            "  20.000   24.428   29.836   36.442   44.511 \n",
            "     nan   16.375   20.000   24.428   29.836 \n",
            "     nan      nan   13.406   16.375   20.000 \n",
            "     nan      nan      nan   10.976   13.406 \n",
            "     nan      nan      nan      nan    8.987 \n",
            "\n",
            "\n",
            "\n",
            "CRR Option Price Tree:\n",
            "\n",
            "   1.288    0.387    0.000    0.000    0.000 \n",
            "     nan    2.476    0.882    0.000    0.000 \n",
            "     nan      nan    4.594    2.013    0.000 \n",
            "     nan      nan      nan    7.024    4.594 \n",
            "     nan      nan      nan      nan    9.013 \n",
            "\n",
            "\n",
            "Option Price: $  1.29\n",
            "______________________________________________________________\n",
            "\n",
            "Inputs:\n",
            "\n",
            "T : 12.00 months\n",
            "t :    4 periods\n",
            "\n",
            "Tree Parameters:\n",
            "\n",
            "u : 1.2214\n",
            "d : 0.8187\n",
            "p : 0.545\n",
            "\n",
            "CRR Stock Price Tree:\n",
            "\n",
            "  20.000   24.428   29.836   36.442   44.511 \n",
            "     nan   16.375   20.000   24.428   29.836 \n",
            "     nan      nan   13.406   16.375   20.000 \n",
            "     nan      nan      nan   10.976   13.406 \n",
            "     nan      nan      nan      nan    8.987 \n",
            "\n",
            "\n",
            "\n",
            "CRR Option Price Tree:\n",
            "\n",
            "   1.144    0.387    0.000    0.000    0.000 \n",
            "     nan    2.148    0.882    0.000    0.000 \n",
            "     nan      nan    3.844    2.013    0.000 \n",
            "     nan      nan      nan    6.361    4.594 \n",
            "     nan      nan      nan      nan    9.013 \n",
            "\n",
            "\n",
            "Option Price: $  1.14\n",
            "______________________________________________________________\n"
          ],
          "name": "stdout"
        }
      ]
    },
    {
      "cell_type": "code",
      "metadata": {
        "colab": {
          "base_uri": "https://localhost:8080/"
        },
        "id": "ZnSfMf4KgXId",
        "outputId": "a02744f3-e77c-4c22-d83c-ceba780b5054"
      },
      "source": [
        "\n",
        "crr = crr_binomial_tree(20, 18, 0.15, 12/12, 50, 0.40, 'euro', 'put')\n",
        "bs = black_scholes(20, 18, 0.15, 12/12, 4, 0.40, 'euro', 'put')\n",
        "print(bs)\n",
        "print(crr)"
      ],
      "execution_count": null,
      "outputs": [
        {
          "output_type": "stream",
          "text": [
            "1.1030371926735958\n",
            "1.0966293266078704\n"
          ],
          "name": "stdout"
        }
      ]
    }
  ]
}