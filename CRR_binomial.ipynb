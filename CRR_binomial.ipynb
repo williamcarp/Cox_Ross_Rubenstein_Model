{
  "nbformat": 4,
  "nbformat_minor": 0,
  "metadata": {
    "colab": {
      "name": "CRR_binomial.ipynb",
      "provenance": [],
      "mount_file_id": "1udOkKyUnydNtUbOvecyr_7Do7H-7YHkJ",
      "authorship_tag": "ABX9TyPj/rGqun8QptxMhBVzdlt1",
      "include_colab_link": true
    },
    "kernelspec": {
      "name": "python3",
      "display_name": "Python 3"
    },
    "language_info": {
      "name": "python"
    }
  },
  "cells": [
    {
      "cell_type": "markdown",
      "metadata": {
        "id": "view-in-github",
        "colab_type": "text"
      },
      "source": [
        "<a href=\"https://colab.research.google.com/github/williamcarp/Cox_Ross_Rubenstein_Model/blob/main/CRR_binomial.ipynb\" target=\"_parent\"><img src=\"https://colab.research.google.com/assets/colab-badge.svg\" alt=\"Open In Colab\"/></a>"
      ]
    },
    {
      "cell_type": "code",
      "metadata": {
        "id": "zTDrhMwl3-QO"
      },
      "source": [
        "###################################################################\n",
        "# COX-ROSS-RUBENSTEIN (CRR) Binomial Tree Implementation \n",
        "###################################################################\n",
        "\n",
        "# Author      : Will Carpenter \n",
        "# Date Created: April 1st, 2021  \n",
        "\n",
        "import math \n",
        "import numpy as np \n",
        "from scipy.stats import norm # cumulative normal distribution\n"
      ],
      "execution_count": 1,
      "outputs": []
    },
    {
      "cell_type": "code",
      "metadata": {
        "id": "LUOAdk53Ty8U"
      },
      "source": [
        "def crr_binomial_tree(S, K, r, T, t, v, x):\n",
        "\n",
        "    # S: initial asset price\n",
        "    # K: strike price \n",
        "    # r: riskless rate \n",
        "    # T: time to maturity (in yrs.)\n",
        "    # t: number of steps \n",
        "    # v: annualized volatility\n",
        "    # x: euro call (= 1) euro put (= -1)\n",
        "\n",
        "    # Calculate time increment \n",
        "    dt = T / t\n",
        "    # Initialize tree  \n",
        "    crrTree        = np.empty((t,t))\n",
        "    crrTree[:]     = np.nan\n",
        "\n",
        "    # Initialize tree parameters \n",
        "    u = math.exp(v*math.sqrt(dt))\n",
        "    d = 1/u\n",
        "    p = (math.exp(r*dt) - d)/(u - d)\n",
        "\n",
        "    lastCol = len(crrTree)-1\n",
        "\n",
        "    for row in range(0,lastCol+1):\n",
        "        St = S*u**(lastCol-row)*d**(row)\n",
        "        crrTree[row, lastCol] =  max(x*St - x*K, 0)\n",
        "\n",
        "    for col in range(lastCol-1, -1, -1):\n",
        "        for row in range(0, col+1):\n",
        "            # move backwards from previous prices \n",
        "            Pu = crrTree[row, col+1]\n",
        "            Pd = crrTree[row+1, col+1]\n",
        "            # Calcuate price on tree\n",
        "            crrTree[row, col] = math.exp(-r*dt)*(p*Pu + (1-p)*Pd)\n",
        "\n",
        "    return crrTree[0,0]\n"
      ],
      "execution_count": 2,
      "outputs": []
    },
    {
      "cell_type": "code",
      "metadata": {
        "id": "538X4Cw_sQT6"
      },
      "source": [
        "# Black-Scholes Model\n",
        "\n",
        "def black_scholes(S, K, r, T, t, v, x):\n",
        "\n",
        "    d1 = (math.log(S/K) + (v**2/2 + r)*T)/(v*math.sqrt(T))\n",
        "    d2 = d1 - v*math.sqrt(T)\n",
        "\n",
        "    return x*S*norm.cdf(d1) - x*K*math.exp(-r*T)*norm.cdf(d2)\n"
      ],
      "execution_count": 3,
      "outputs": []
    },
    {
      "cell_type": "code",
      "metadata": {
        "colab": {
          "base_uri": "https://localhost:8080/"
        },
        "id": "CZMhEN2dXUPS",
        "outputId": "1ec99ba6-427e-4318-bd03-4e8c6894f58e"
      },
      "source": [
        "\n",
        "# Monster Beverage \n",
        "crr_price = crr_binomial_tree(91.36, 95.00, 0.007, 15/252, 100, 0.8218, 1)\n",
        "bs_price  =     black_scholes(91.36, 95.00, 0.007, 15/252, 100, 0.8218, 1)\n",
        "print(\"________________________________________________________________\\n\")\n",
        "print(\"Monster Beverage Corp.\")\n",
        "print(\"Expiry: June 18th\")\n",
        "print(\"CRR European Call Price: $\" + \"{:3.2f}\".format(crr_price))\n",
        "print(\"B-S European Call Price: $\" + \"{:3.2f}\".format(bs_price))\n",
        "\n",
        "# Carvana \n",
        "crr_price = crr_binomial_tree(265.32, 267.50, 0.00063, 15/252, 100, 0.6065, 1)\n",
        "bs_price  =     black_scholes(265.32, 267.50, 0.00063, 15/252, 100, 0.6065, 1)\n",
        "print(\"________________________________________________________________\\n\")\n",
        "print(\"Carvana Co.\")\n",
        "print(\"Expiry: April 16th\")\n",
        "print(\"CRR European Call Price: $\" + \"{:3.2f}\".format(crr_price))\n",
        "print(\"B-S European Call Price: $\" + \"{:3.2f}\".format(bs_price))\n",
        "\n",
        "# American Airlines\n",
        "crr_price = crr_binomial_tree(23.86, 24.00, 0.006, 15/252, 100, 0.5234, 1)\n",
        "bs_price  =     black_scholes(23.86, 24.00, 0.006, 15/252, 100, 0.5234, 1)\n",
        "print(\"________________________________________________________________\\n\")\n",
        "print(\"American Airlines Group Inc.\")\n",
        "print(\"Expiry: April 23rd (15 days)\")\n",
        "print(\"CRR European Call Price: $\" + \"{:3.2f}\".format(crr_price))\n",
        "print(\"B-S European Call Price: $\" + \"{:3.2f}\".format(bs_price))\n",
        "print(\"________________________________________________________________\\n\")"
      ],
      "execution_count": 7,
      "outputs": [
        {
          "output_type": "stream",
          "text": [
            "________________________________________________________________\n",
            "\n",
            "Monster Beverage Corp.\n",
            "Expiry: June 18th\n",
            "CRR European Call Price: $5.76\n",
            "B-S European Call Price: $5.78\n",
            "________________________________________________________________\n",
            "\n",
            "Carvana Co.\n",
            "Expiry: April 16th\n",
            "CRR European Call Price: $14.59\n",
            "B-S European Call Price: $14.65\n",
            "________________________________________________________________\n",
            "\n",
            "American Airlines Group Inc.\n",
            "Expiry: April 23rd (15 days)\n",
            "CRR European Call Price: $1.15\n",
            "B-S European Call Price: $1.15\n",
            "________________________________________________________________\n",
            "\n"
          ],
          "name": "stdout"
        }
      ]
    },
    {
      "cell_type": "code",
      "metadata": {
        "id": "GTpdYP6o11c7"
      },
      "source": [
        "def crr_build_tree(S, K, r, T, t, v, x):\n",
        "\n",
        "    # s  : spot price \n",
        "    # k  : strike \n",
        "    # r  : riskless rate\n",
        "    # T  : maturity (in yrs.)\n",
        "    # t  : steps \n",
        "    # v  : annualized volatility\n",
        "\n",
        "    # Calculate time increment \n",
        "    dt = T / t \n",
        "    # Initialize tree  \n",
        "    crrTree, crrPrice         = np.empty((t,t)), np.empty((t,t)) \n",
        "    crrTree[:], crrPrice[:]   = np.nan, np.nan\n",
        "    # Initial stock price\n",
        "    crrTree[0,0] = S\n",
        "    # Initialize tree parameters \n",
        "    u = math.exp(v*math.sqrt(dt))\n",
        "    d = 1/u\n",
        "    p = (math.exp(r*dt) - d)/(u - d)\n",
        "    # Fill in top branch \n",
        "    for col in range(1,t):\n",
        "        crrTree[0, col] = crrTree[0, col-1]*u\n",
        "    # Fill in rest of tree\n",
        "    for row in range(1, t):\n",
        "        for col in range(row, t):\n",
        "            crrTree[row, col] = crrTree[row-1, col-1]*d\n",
        "    \n",
        "    # European option payoff \n",
        "    lastCol = len(crrPrice)-1\n",
        "\n",
        "    for row in range(0,lastCol+1):\n",
        "        crrPrice[row, lastCol] =  max(crrTree[row, lastCol] - K, 0)\n",
        "\n",
        "    discount = math.exp(-r*dt) \n",
        "\n",
        "    for col in range(lastCol-1, -1, -1):\n",
        "        for row in range(0, col+1):\n",
        "            # move backwards from previous prices \n",
        "            Su = crrPrice[row, col+1]\n",
        "            Sd = crrPrice[row+1, col+1]\n",
        "            # Calcuate price on tree\n",
        "            crrPrice[row, col] = discount*(p*Su + (1-p)*Sd)\n",
        "\n",
        "    #Testing code \n",
        "    print()\n",
        "    print(\"Tree Parameters:\\n\")\n",
        "    print(\"u : \" \"{:3.2f}\".format(u))\n",
        "    print(\"d : \" \"{:3.2f}\".format(d))\n",
        "    print(\"p : \" \"{:3.2f}\".format(p))\n",
        "\n",
        "    #print the stock price tree    \n",
        "    print(\"\\nCRR Stock Price Tree:\\n\")\n",
        "    for i in crrTree:\n",
        "        for j in i:\n",
        "            print(\"{:7.2f}\".format(j), end=\" \")\n",
        "        print() \n",
        "    print(\"\\n\")\n",
        "\n",
        "    # print the stock price tree    \n",
        "    print(\"\\nCRR Option Price Tree:\\n\")\n",
        "    for i in crrPrice:\n",
        "        for j in i:\n",
        "            print(\"{:7.2f}\".format(j), end=\" \")\n",
        "        print() \n",
        "    print(\"\\n\")\n",
        "\n",
        "    return crrPrice[0,0]\n",
        "    \n"
      ],
      "execution_count": 9,
      "outputs": []
    },
    {
      "cell_type": "code",
      "metadata": {
        "colab": {
          "base_uri": "https://localhost:8080/"
        },
        "id": "O6aHM0V5k5CV",
        "outputId": "59fb53bf-d4fe-4ebc-929e-243ca9b12066"
      },
      "source": [
        "# Monster Beverage Call Option \n",
        "price    = crr_build_tree(91.36, 95.00, 0.007, 48/252, 15, 0.8218, 1)\n",
        "bs_price = black_scholes(91.36, 95.00, 0.007, 48/252, 15, 0.8218, 1)\n",
        "print(\"________________________________________________________________\\n\")\n",
        "print(\"Monster Beverage Corp.\")\n",
        "print(\"Expiry: June 18th\")\n",
        "print(\"CRR European Call Price: $\" + \"{:3.2f}\".format(price))\n",
        "print(\"B-S European Call Price: $\" + \"{:3.2f}\".format(bs_price))\n",
        "print(\"________________________________________________________________\\n\")"
      ],
      "execution_count": 10,
      "outputs": [
        {
          "output_type": "stream",
          "text": [
            "\n",
            "Tree Parameters:\n",
            "\n",
            "u : 1.10\n",
            "d : 0.91\n",
            "p : 0.48\n",
            "\n",
            "CRR Stock Price Tree:\n",
            "\n",
            "  91.36  100.22  109.95  120.62  132.32  145.16  159.25  174.70  191.65  210.24  230.64  253.02  277.57  304.51  334.05 \n",
            "    nan   83.28   91.36  100.22  109.95  120.62  132.32  145.16  159.25  174.70  191.65  210.24  230.64  253.02  277.57 \n",
            "    nan     nan   75.91   83.28   91.36  100.22  109.95  120.62  132.32  145.16  159.25  174.70  191.65  210.24  230.64 \n",
            "    nan     nan     nan   69.20   75.91   83.28   91.36  100.22  109.95  120.62  132.32  145.16  159.25  174.70  191.65 \n",
            "    nan     nan     nan     nan   63.08   69.20   75.91   83.28   91.36  100.22  109.95  120.62  132.32  145.16  159.25 \n",
            "    nan     nan     nan     nan     nan   57.50   63.08   69.20   75.91   83.28   91.36  100.22  109.95  120.62  132.32 \n",
            "    nan     nan     nan     nan     nan     nan   52.41   57.50   63.08   69.20   75.91   83.28   91.36  100.22  109.95 \n",
            "    nan     nan     nan     nan     nan     nan     nan   47.78   52.41   57.50   63.08   69.20   75.91   83.28   91.36 \n",
            "    nan     nan     nan     nan     nan     nan     nan     nan   43.55   47.78   52.41   57.50   63.08   69.20   75.91 \n",
            "    nan     nan     nan     nan     nan     nan     nan     nan     nan   39.70   43.55   47.78   52.41   57.50   63.08 \n",
            "    nan     nan     nan     nan     nan     nan     nan     nan     nan     nan   36.19   39.70   43.55   47.78   52.41 \n",
            "    nan     nan     nan     nan     nan     nan     nan     nan     nan     nan     nan   32.99   36.19   39.70   43.55 \n",
            "    nan     nan     nan     nan     nan     nan     nan     nan     nan     nan     nan     nan   30.07   32.99   36.19 \n",
            "    nan     nan     nan     nan     nan     nan     nan     nan     nan     nan     nan     nan     nan   27.41   30.07 \n",
            "    nan     nan     nan     nan     nan     nan     nan     nan     nan     nan     nan     nan     nan     nan   24.99 \n",
            "\n",
            "\n",
            "\n",
            "CRR Option Price Tree:\n",
            "\n",
            "  11.19   15.86   21.99   29.82   39.51   51.10   64.57   79.79   96.70  115.29  135.68  158.05  182.59  209.51  239.05 \n",
            "    nan    6.93   10.25   14.84   20.98   28.92   38.82   50.67   64.37   79.74   96.68  115.27  135.66  158.03  182.57 \n",
            "    nan     nan    3.90    6.07    9.24   13.74   19.90   27.99   38.17   50.34   64.28   79.72   96.66  115.25  135.64 \n",
            "    nan     nan     nan    1.92    3.17    5.13    8.11   12.50   18.71   27.05   37.63   50.19   64.26   79.71   96.65 \n",
            "    nan     nan     nan     nan    0.79    1.38    2.41    4.10    6.84   11.09   17.40   26.16   37.34   50.17   64.25 \n",
            "    nan     nan     nan     nan     nan    0.24    0.45    0.86    1.60    2.95    5.34    9.40   15.96   25.63   37.32 \n",
            "    nan     nan     nan     nan     nan     nan    0.04    0.08    0.18    0.37    0.78    1.63    3.41    7.14   14.95 \n",
            "    nan     nan     nan     nan     nan     nan     nan    0.00    0.00    0.00    0.00    0.00    0.00    0.00    0.00 \n",
            "    nan     nan     nan     nan     nan     nan     nan     nan    0.00    0.00    0.00    0.00    0.00    0.00    0.00 \n",
            "    nan     nan     nan     nan     nan     nan     nan     nan     nan    0.00    0.00    0.00    0.00    0.00    0.00 \n",
            "    nan     nan     nan     nan     nan     nan     nan     nan     nan     nan    0.00    0.00    0.00    0.00    0.00 \n",
            "    nan     nan     nan     nan     nan     nan     nan     nan     nan     nan     nan    0.00    0.00    0.00    0.00 \n",
            "    nan     nan     nan     nan     nan     nan     nan     nan     nan     nan     nan     nan    0.00    0.00    0.00 \n",
            "    nan     nan     nan     nan     nan     nan     nan     nan     nan     nan     nan     nan     nan    0.00    0.00 \n",
            "    nan     nan     nan     nan     nan     nan     nan     nan     nan     nan     nan     nan     nan     nan    0.00 \n",
            "\n",
            "\n",
            "________________________________________________________________\n",
            "\n",
            "Monster Beverage Corp.\n",
            "Expiry: June 18th\n",
            "CRR European Call Price: $11.19\n",
            "B-S European Call Price: $11.57\n",
            "________________________________________________________________\n",
            "\n"
          ],
          "name": "stdout"
        }
      ]
    }
  ]
}