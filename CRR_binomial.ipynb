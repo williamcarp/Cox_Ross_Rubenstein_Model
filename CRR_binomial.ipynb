{
  "nbformat": 4,
  "nbformat_minor": 0,
  "metadata": {
    "colab": {
      "name": "CRR_binomial.ipynb",
      "provenance": [],
      "mount_file_id": "1udOkKyUnydNtUbOvecyr_7Do7H-7YHkJ",
      "authorship_tag": "ABX9TyMlrcADzmFXs3/IexCWPJ4W",
      "include_colab_link": true
    },
    "kernelspec": {
      "name": "python3",
      "display_name": "Python 3"
    },
    "language_info": {
      "name": "python"
    }
  },
  "cells": [
    {
      "cell_type": "markdown",
      "metadata": {
        "id": "view-in-github",
        "colab_type": "text"
      },
      "source": [
        "<a href=\"https://colab.research.google.com/github/williamcarp/Cox_Ross_Rubenstein_Model/blob/main/CRR_binomial.ipynb\" target=\"_parent\"><img src=\"https://colab.research.google.com/assets/colab-badge.svg\" alt=\"Open In Colab\"/></a>"
      ]
    },
    {
      "cell_type": "code",
      "metadata": {
        "id": "zTDrhMwl3-QO"
      },
      "source": [
        "###################################################################\n",
        "# COX-ROSS-RUBENSTEIN (CRR) Binomial Tree Implementation \n",
        "###################################################################\n",
        "\n",
        "# Author      : Will Carpenter \n",
        "# Date Created: April 1st, 2021  \n",
        "\n",
        "import math \n",
        "import numpy as np \n",
        "from scipy.stats import norm # cumulative normal distribution\n"
      ],
      "execution_count": 1,
      "outputs": []
    },
    {
      "cell_type": "code",
      "metadata": {
        "id": "LUOAdk53Ty8U"
      },
      "source": [
        "def crr_binomial_tree(S, K, r, T, t, v, x):\n",
        "\n",
        "    # S: initial asset price\n",
        "    # K: strike price \n",
        "    # r: riskless rate \n",
        "    # T: time to maturity (in yrs.)\n",
        "    # t: number of steps \n",
        "    # v: annualized volatility\n",
        "    # x: euro call (= 1) euro put (= -1)\n",
        "\n",
        "    # Calculate time increment \n",
        "    dt = T / t\n",
        "    # Initialize tree  \n",
        "    crrTree        = np.empty((t,t))\n",
        "    crrTree[:]     = np.nan\n",
        "\n",
        "    # Initialize tree parameters \n",
        "    u = math.exp(v*math.sqrt(dt))\n",
        "    d = 1/u\n",
        "    p = (math.exp(r*dt) - d)/(u - d)\n",
        "\n",
        "    lastCol = len(crrTree)-1\n",
        "\n",
        "    for row in range(0,lastCol+1):\n",
        "        St = S*u**(lastCol-row)*d**(row)\n",
        "        crrTree[row, lastCol] =  max(x*St - x*K, 0)\n",
        "\n",
        "    for col in range(lastCol-1, -1, -1):\n",
        "        for row in range(0, col+1):\n",
        "            # move backwards from previous prices \n",
        "            Pu = crrTree[row, col+1]\n",
        "            Pd = crrTree[row+1, col+1]\n",
        "            # Calcuate price on tree\n",
        "            crrTree[row, col] = math.exp(-r*dt)*(p*Pu + (1-p)*Pd)\n",
        "\n",
        "    return crrTree[0,0]\n"
      ],
      "execution_count": 29,
      "outputs": []
    },
    {
      "cell_type": "code",
      "metadata": {
        "id": "y4Fp5ziG42Oi"
      },
      "source": [
        "# Visualizing the CRR Stock Price Tree\n",
        "\n",
        "def crr_build_tree(S, K, r, T, t, v, x):\n",
        "\n",
        "    # s  : spot price \n",
        "    # k  : strike \n",
        "    # r  : riskless rate\n",
        "    # T  : maturity (in yrs.)\n",
        "    # t  : steps \n",
        "    # v  : annualized volatility\n",
        "\n",
        "    # Calculate time increment \n",
        "    dt = T / t \n",
        "    \n",
        "    # Initialize tree  \n",
        "    crrTree, crrPrice         = np.empty((t,t)), np.empty((t,t)) \n",
        "    crrTree[:], crrPrice[:]   = np.nan, np.nan\n",
        "    \n",
        "    # Initial stock price\n",
        "    crrTree[0,0] = S\n",
        "    \n",
        "    # Initialize tree parameters \n",
        "    u = math.exp(v*math.sqrt(dt))\n",
        "    d = 1/u\n",
        "    p = (math.exp(r*dt) - d)/(u - d)\n",
        "    \n",
        "    # Fill in top branch \n",
        "    for col in range(1,t):\n",
        "        crrTree[0, col] = crrTree[0, col-1]*u\n",
        "    # Fill in rest of tree\n",
        "    for row in range(1, t):\n",
        "        for col in range(row, t):\n",
        "            crrTree[row, col] = crrTree[row-1, col-1]*d\n",
        "    \n",
        "    # European option payoff \n",
        "    lastCol = len(crrPrice)-1\n",
        "\n",
        "    for row in range(0,lastCol+1):\n",
        "        crrPrice[row, lastCol] =  max(crrTree[row, lastCol] - K, 0)\n",
        "\n",
        "    discount = math.exp(-r*dt) \n",
        "\n",
        "    for col in range(lastCol-1, -1, -1):\n",
        "        for row in range(0, col+1):\n",
        "            # move backwards from previous prices \n",
        "            Su = crrPrice[row, col+1]\n",
        "            Sd = crrPrice[row+1, col+1]\n",
        "            # Calcuate price on tree\n",
        "            crrPrice[row, col] = discount*(p*Su + (1-p)*Sd)\n",
        "\n",
        "    #Testing code \n",
        "    print()\n",
        "    print(\"Tree Parameters:\\n\")\n",
        "    print(\"u : \" \"{:3.2f}\".format(u))\n",
        "    print(\"d : \" \"{:3.2f}\".format(d))\n",
        "    print(\"p : \" \"{:3.2f}\".format(p))\n",
        "\n",
        "    #print the stock price tree    \n",
        "    print(\"\\nCRR Stock Price Tree:\\n\")\n",
        "    for i in crrTree:\n",
        "        for j in i:\n",
        "            print(\"{:7.2f}\".format(j), end=\" \")\n",
        "        print() \n",
        "    print(\"\\n\")\n",
        "\n",
        "    # print the stock price tree    \n",
        "    print(\"\\nCRR Option Price Tree:\\n\")\n",
        "    for i in crrPrice:\n",
        "        for j in i:\n",
        "            print(\"{:7.2f}\".format(j), end=\" \")\n",
        "        print() \n",
        "    print(\"\\n\")\n",
        "\n",
        "    return crrPrice[0,0]"
      ],
      "execution_count": null,
      "outputs": []
    },
    {
      "cell_type": "code",
      "metadata": {
        "id": "538X4Cw_sQT6"
      },
      "source": [
        "# Black-Scholes Model\n",
        "\n",
        "def black_scholes(S, K, r, T, t, v, x):\n",
        "\n",
        "    d1 = (math.log(S/K) + (v**2/2 + r)*T)/(v*math.sqrt(T))\n",
        "    d2 = d1 - v*math.sqrt(T)\n",
        "\n",
        "    return x*S*norm.cdf(d1) - x*K*math.exp(-r*T)*norm.cdf(d2)\n"
      ],
      "execution_count": 3,
      "outputs": []
    },
    {
      "cell_type": "code",
      "metadata": {
        "colab": {
          "base_uri": "https://localhost:8080/"
        },
        "id": "CZMhEN2dXUPS",
        "outputId": "a210e318-797e-4e8d-dd58-f62aab9c073c"
      },
      "source": [
        "# Monster Beverage \n",
        "crr_price = crr_binomial_tree(91.36, 95.00, 0.0007, 15/252, 100, 0.8218, 1)\n",
        "bs_price  =     black_scholes(91.36, 95.00, 0.0007, 15/252, 100, 0.8218, 1)\n",
        "print(\"________________________________________________________________\\n\")\n",
        "print(\"Monster Beverage Corp.\")\n",
        "print(\"Expiry: June 18th\")\n",
        "print(\"CRR European Call Price: $\" + \"{:3.2f}\".format(crr_price))\n",
        "print(\"B-S European Call Price: $\" + \"{:3.2f}\".format(bs_price))\n",
        "\n",
        "# Carvana \n",
        "crr_price = crr_binomial_tree(265.32, 267.50, 0.00063, 15/252, 100, 0.6065, 1)\n",
        "bs_price  =     black_scholes(265.32, 267.50, 0.00063, 15/252, 100, 0.6065, 1)\n",
        "print(\"________________________________________________________________\\n\")\n",
        "print(\"Carvana Co.\")\n",
        "print(\"Expiry: April 16th\")\n",
        "print(\"CRR European Call Price: $\" + \"{:3.2f}\".format(crr_price))\n",
        "print(\"B-S European Call Price: $\" + \"{:3.2f}\".format(bs_price))\n",
        "\n",
        "# American Airlines\n",
        "crr_price = crr_binomial_tree(23.86, 24.00, 0.006, 15/252, 100, 0.5234, 1)\n",
        "bs_price  =     black_scholes(23.86, 24.00, 0.006, 15/252, 100, 0.5234, 1)\n",
        "print(\"________________________________________________________________\\n\")\n",
        "print(\"American Airlines Group Inc.\")\n",
        "print(\"Expiry: April 23rd (15 days)\")\n",
        "print(\"CRR European Call Price: $\" + \"{:3.2f}\".format(crr_price))\n",
        "print(\"B-S European Call Price: $\" + \"{:3.2f}\".format(bs_price))\n",
        "print(\"________________________________________________________________\\n\")"
      ],
      "execution_count": 24,
      "outputs": [
        {
          "output_type": "stream",
          "text": [
            "________________________________________________________________\n",
            "\n",
            "Monster Beverage Corp.\n",
            "Expiry: June 18th\n",
            "CRR European Call Price: $5.74\n",
            "B-S European Call Price: $5.76\n",
            "________________________________________________________________\n",
            "\n",
            "Carvana Co.\n",
            "Expiry: April 16th\n",
            "CRR European Call Price: $14.59\n",
            "B-S European Call Price: $14.65\n",
            "________________________________________________________________\n",
            "\n",
            "American Airlines Group Inc.\n",
            "Expiry: April 23rd (15 days)\n",
            "CRR European Call Price: $1.15\n",
            "B-S European Call Price: $1.15\n",
            "________________________________________________________________\n",
            "\n"
          ],
          "name": "stdout"
        }
      ]
    },
    {
      "cell_type": "code",
      "metadata": {
        "colab": {
          "base_uri": "https://localhost:8080/"
        },
        "id": "O6aHM0V5k5CV",
        "outputId": "b62d2342-6447-49c0-8827-4688a5e23649"
      },
      "source": [
        "# Monster Beverage Call Option \n",
        "price    = crr_build_tree(91.36, 93.00, 0.007, 50/252, 15, 0.8218, 1)\n",
        "bs_price = black_scholes(91.36, 93.00, 0.007, 50/252, 15, 0.8218, 1)\n",
        "print(\"________________________________________________________________\\n\")\n",
        "print(\"Monster Beverage Corp.\")\n",
        "print(\"Expiry: June 18th\")\n",
        "print(\"CRR European Call Price: $\" + \"{:3.2f}\".format(price))\n",
        "print(\"B-S European Call Price: $\" + \"{:3.2f}\".format(bs_price))\n",
        "print(\"________________________________________________________________\\n\")"
      ],
      "execution_count": 28,
      "outputs": [
        {
          "output_type": "stream",
          "text": [
            "\n",
            "Tree Parameters:\n",
            "\n",
            "u : 1.10\n",
            "d : 0.91\n",
            "p : 0.48\n",
            "\n",
            "CRR Stock Price Tree:\n",
            "\n",
            "  91.36  100.42  110.37  121.31  133.34  146.55  161.08  177.05  194.60  213.89  235.09  258.39  284.01  312.16  343.10 \n",
            "    nan   83.12   91.36  100.42  110.37  121.31  133.34  146.55  161.08  177.05  194.60  213.89  235.09  258.39  284.01 \n",
            "    nan     nan   75.62   83.12   91.36  100.42  110.37  121.31  133.34  146.55  161.08  177.05  194.60  213.89  235.09 \n",
            "    nan     nan     nan   68.80   75.62   83.12   91.36  100.42  110.37  121.31  133.34  146.55  161.08  177.05  194.60 \n",
            "    nan     nan     nan     nan   62.60   68.80   75.62   83.12   91.36  100.42  110.37  121.31  133.34  146.55  161.08 \n",
            "    nan     nan     nan     nan     nan   56.95   62.60   68.80   75.62   83.12   91.36  100.42  110.37  121.31  133.34 \n",
            "    nan     nan     nan     nan     nan     nan   51.82   56.95   62.60   68.80   75.62   83.12   91.36  100.42  110.37 \n",
            "    nan     nan     nan     nan     nan     nan     nan   47.14   51.82   56.95   62.60   68.80   75.62   83.12   91.36 \n",
            "    nan     nan     nan     nan     nan     nan     nan     nan   42.89   47.14   51.82   56.95   62.60   68.80   75.62 \n",
            "    nan     nan     nan     nan     nan     nan     nan     nan     nan   39.02   42.89   47.14   51.82   56.95   62.60 \n",
            "    nan     nan     nan     nan     nan     nan     nan     nan     nan     nan   35.50   39.02   42.89   47.14   51.82 \n",
            "    nan     nan     nan     nan     nan     nan     nan     nan     nan     nan     nan   32.30   35.50   39.02   42.89 \n",
            "    nan     nan     nan     nan     nan     nan     nan     nan     nan     nan     nan     nan   29.39   32.30   35.50 \n",
            "    nan     nan     nan     nan     nan     nan     nan     nan     nan     nan     nan     nan     nan   26.74   29.39 \n",
            "    nan     nan     nan     nan     nan     nan     nan     nan     nan     nan     nan     nan     nan     nan   24.33 \n",
            "\n",
            "\n",
            "\n",
            "CRR Option Price Tree:\n",
            "\n",
            "  12.11   17.10   23.64   31.93   42.13   54.28   68.31   84.13  101.65  120.93  142.12  165.42  191.02  219.17  250.10 \n",
            "    nan    7.56   11.15   16.08   22.64   31.07   41.50   53.91   68.17   84.09  101.63  120.91  142.11  165.40  191.01 \n",
            "    nan     nan    4.29    6.65   10.10   14.96   21.57   30.19   40.93   53.66   68.11   84.07  101.62  120.90  142.09 \n",
            "    nan     nan     nan    2.14    3.51    5.67    8.93   13.71   20.41   29.33   40.49   53.58   68.10   84.06  101.60 \n",
            "    nan     nan     nan     nan    0.88    1.55    2.69    4.58    7.61   12.28   19.15   28.57   40.35   53.56   68.08 \n",
            "    nan     nan     nan     nan     nan    0.27    0.52    0.97    1.82    3.34    6.03   10.57   17.84   28.32   40.34 \n",
            "    nan     nan     nan     nan     nan     nan    0.05    0.10    0.20    0.43    0.90    1.88    3.95    8.28   17.37 \n",
            "    nan     nan     nan     nan     nan     nan     nan    0.00    0.00    0.00    0.00    0.00    0.00    0.00    0.00 \n",
            "    nan     nan     nan     nan     nan     nan     nan     nan    0.00    0.00    0.00    0.00    0.00    0.00    0.00 \n",
            "    nan     nan     nan     nan     nan     nan     nan     nan     nan    0.00    0.00    0.00    0.00    0.00    0.00 \n",
            "    nan     nan     nan     nan     nan     nan     nan     nan     nan     nan    0.00    0.00    0.00    0.00    0.00 \n",
            "    nan     nan     nan     nan     nan     nan     nan     nan     nan     nan     nan    0.00    0.00    0.00    0.00 \n",
            "    nan     nan     nan     nan     nan     nan     nan     nan     nan     nan     nan     nan    0.00    0.00    0.00 \n",
            "    nan     nan     nan     nan     nan     nan     nan     nan     nan     nan     nan     nan     nan    0.00    0.00 \n",
            "    nan     nan     nan     nan     nan     nan     nan     nan     nan     nan     nan     nan     nan     nan    0.00 \n",
            "\n",
            "\n",
            "________________________________________________________________\n",
            "\n",
            "Monster Beverage Corp.\n",
            "Expiry: June 18th\n",
            "CRR European Call Price: $12.11\n",
            "B-S European Call Price: $12.64\n",
            "________________________________________________________________\n",
            "\n"
          ],
          "name": "stdout"
        }
      ]
    }
  ]
}