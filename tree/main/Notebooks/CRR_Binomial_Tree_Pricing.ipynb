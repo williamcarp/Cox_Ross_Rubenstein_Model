{
  "nbformat": 4,
  "nbformat_minor": 0,
  "metadata": {
    "colab": {
      "name": "CRR_Binomial_Tree_Pricing.ipynb",
      "provenance": [],
      "collapsed_sections": [],
      "mount_file_id": "1udOkKyUnydNtUbOvecyr_7Do7H-7YHkJ",
      "authorship_tag": "ABX9TyNVI1RYJok1uQPDKy/wQ3pQ",
      "include_colab_link": true
    },
    "kernelspec": {
      "name": "python3",
      "display_name": "Python 3"
    },
    "language_info": {
      "name": "python"
    }
  },
  "cells": [
    {
      "cell_type": "markdown",
      "metadata": {
        "id": "view-in-github",
        "colab_type": "text"
      },
      "source": [
        "<a href=\"https://colab.research.google.com/github/williamcarp/Equity-Derivative-Models/blob/main/tree/main/Notebooks/CRR_Binomial_Tree_Pricing.ipynb\" target=\"_parent\"><img src=\"https://colab.research.google.com/assets/colab-badge.svg\" alt=\"Open In Colab\"/></a>"
      ]
    },
    {
      "cell_type": "markdown",
      "metadata": {
        "id": "wbhgBiUF8t9f"
      },
      "source": [
        "# **Cox-Ross-Rubenstein Binomial (CRR) Tree Pricing**\n",
        "\n",
        "Author:       Will Carpenter\n",
        "\n",
        "Date Created: April 1st, 2021\n",
        "\n",
        "Description:\n",
        "\n",
        "\n"
      ]
    },
    {
      "cell_type": "markdown",
      "metadata": {
        "id": "mK4W8soCApja"
      },
      "source": [
        "## Importing"
      ]
    },
    {
      "cell_type": "code",
      "metadata": {
        "id": "jJyERZY38HJ2"
      },
      "source": [
        "import math \n",
        "import numpy as np \n",
        "from scipy.stats import norm # Cumulative normal distribution\n",
        "import matplotlib.pyplot as plt"
      ],
      "execution_count": 2,
      "outputs": []
    },
    {
      "cell_type": "markdown",
      "metadata": {
        "id": "qtZZqn3h9Dyn"
      },
      "source": [
        "## CRR Binomial Tree \n",
        "\n",
        "The CRR binomial tree program is given below.\n",
        "\n",
        "Space should be O(n). Runtime is O(n^2). "
      ]
    },
    {
      "cell_type": "code",
      "metadata": {
        "id": "LUOAdk53Ty8U"
      },
      "source": [
        "def crr_binomial_tree(S, K, r, T, t, v, style, type):\n",
        "\n",
        "    # S  : spot price \n",
        "    # K  : strike \n",
        "    # r  : riskless rate\n",
        "    # T  : maturity (in yrs.)\n",
        "    # t  : number of steps \n",
        "    # v  : annualized volatility\n",
        "\n",
        "    # Calculate time increment \n",
        "    dt = T / t \n",
        "    \n",
        "    # Set type of option \n",
        "    if type=='call': x = 1 \n",
        "    if type=='put' : x = -1 \n",
        "    \n",
        "    # Initialize tree  \n",
        "    crrTree      = np.empty((t+1,t+1))\n",
        "    crrTree[:]   = np.nan\n",
        "    \n",
        "    # Initial stock price\n",
        "    crrTree[0,0] = S\n",
        "    \n",
        "    # Initialize tree parameters \n",
        "    u = math.exp(v*math.sqrt(dt))\n",
        "    d = 1/u\n",
        "    p = (math.exp(r*dt) - d)/(u - d)\n",
        "\n",
        "    for row in range(0,t+1):\n",
        "        St = S*u**(t-row)*d**(row)\n",
        "        crrTree[row, t] =  max(x*St - x*K, 0)\n",
        "\n",
        "    for col in range(t-1, -1, -1):\n",
        "        for row in range(0, col+1):\n",
        "            \n",
        "            # Determine value of early excercise \n",
        "            if style=='euro':   earlyExercise = np.NINF\n",
        "            if style=='amer':   earlyExercise = x*S*u**(col-row)*d**(row) - x*K\n",
        "\n",
        "            # backward iteration from previous nodes\n",
        "            Pu = crrTree[row, col+1]\n",
        "            Pd = crrTree[row+1, col+1]\n",
        "            # Determine continuation value \n",
        "            continuation = math.exp(-r*dt)*(p*Pu + (1-p)*Pd)\n",
        "            \n",
        "            # Calcuate price on at tree node\n",
        "            crrTree[row, col] = max(continuation, earlyExercise)\n",
        "\n",
        "    \n",
        "    return crrTree[0,0]\n"
      ],
      "execution_count": 3,
      "outputs": []
    },
    {
      "cell_type": "markdown",
      "metadata": {
        "id": "tzwLhnbDbfXV"
      },
      "source": [
        "## Black-Scholes Option Pricing Formula\n",
        "\n",
        "By design, prices given by the CRR binomial and trinomial tree should converge to Black-Scholes pricing as the number of steps increases."
      ]
    },
    {
      "cell_type": "code",
      "metadata": {
        "id": "538X4Cw_sQT6"
      },
      "source": [
        "# Black-Scholes Model\n",
        "\n",
        "def black_scholes(S, K, r, T, t, v, style, type):\n",
        "\n",
        "    # Black-Scholes does not accomodate American options \n",
        "\n",
        "    # S  : spot price \n",
        "    # K  : strike \n",
        "    # r  : riskless rate\n",
        "    # T  : maturity (in yrs.)\n",
        "    # t  : number of steps \n",
        "    # v  : annualized volatility\n",
        "\n",
        "    # Set type of option \n",
        "    if type=='call': x = 1 \n",
        "    if type=='put' : x = -1 \n",
        "\n",
        "    d1 = (math.log(S/K) + (v**2/2 + r)*T)/(v*math.sqrt(T))\n",
        "    d2 = (d1 - v*math.sqrt(T))\n",
        "\n",
        "    return x*S*norm.cdf(x*d1) - x*K*math.exp(-r*T)*norm.cdf(x*d2)"
      ],
      "execution_count": 4,
      "outputs": []
    },
    {
      "cell_type": "markdown",
      "metadata": {
        "id": "gb8Fx1Ka95lG"
      },
      "source": [
        "## Visualizing the CRR Binomial Tree\n",
        "\n",
        "Code for the CRR binomial tree can be expanded to include an additional array for the entire evolution of the underlying stock price. While this modification increases run-time and storage of the program, it can be useful to have for de-bugging purposes. "
      ]
    },
    {
      "cell_type": "code",
      "metadata": {
        "id": "y4Fp5ziG42Oi"
      },
      "source": [
        "# Visualizing the CRR Stock Price Tree\n",
        "\n",
        "# Useful program for debugging purposes \n",
        "# Model parameters, stock price tree, and option price tree are printed\n",
        "# This code is not optimized for memory-usage. \n",
        "# Runtime: O(n^2)\n",
        "# Storage: O(n^2)\n",
        "\n",
        "# This is the most up-to-date tree availbale for correct sizing and pricing \n",
        "\n",
        "def crr_visualize_tree(S, K, r, T, t, v, style, type):\n",
        "\n",
        "    # s  : spot price \n",
        "    # k  : strike \n",
        "    # r  : riskless rate\n",
        "    # T  : maturity (in yrs.)\n",
        "    # t  : steps \n",
        "    # v  : annualized volatility\n",
        "\n",
        "    # Calculate time increment \n",
        "    dt = T / t \n",
        "    \n",
        "    # Set type of option \n",
        "    if type=='call': x = 1 \n",
        "    if type=='put' : x = -1 \n",
        "    \n",
        "    # Initialize tree  \n",
        "    crrTree, crrPrice         = np.empty((t+1,t+1)), np.empty((t+1,t+1)) \n",
        "    crrTree[:], crrPrice[:]   = np.nan, np.nan\n",
        "    \n",
        "    # Initial stock price\n",
        "    crrTree[0,0] = S\n",
        "    \n",
        "    # Initialize tree parameters \n",
        "    u = math.exp(v*math.sqrt(dt))\n",
        "    d = 1/u\n",
        "    p = (math.exp(r*dt) - d)/(u - d)\n",
        "\n",
        "    if d >= 1+r or u <= 1+r:\n",
        "        raise Exception(\"Martingale Property not satisfied.\")\n",
        "    \n",
        "    # Creating the stock price tree \n",
        "    # Fill in top branch \n",
        "    for col in range(1,len(crrTree)):\n",
        "        crrTree[0, col] = crrTree[0, col-1]*u\n",
        "    # Fill in rest of tree\n",
        "    for row in range(1, len(crrTree)):\n",
        "        for col in range(row, len(crrTree)):\n",
        "            crrTree[row, col] = crrTree[row-1, col-1]*d\n",
        "    \n",
        "    for row in range(0,t+1):\n",
        "        St = S*u**(t-row)*d**(row)\n",
        "        crrPrice[row, t] =  max(x*St - x*K, 0)\n",
        "\n",
        "    for col in range(t-1, -1, -1):\n",
        "        for row in range(0, col+1):\n",
        "\n",
        "            # Determine value of early excercise \n",
        "            if style=='euro': earlyExercise = np.NINF\n",
        "            if style=='amer': earlyExercise = x*crrTree[row, col] - x*K\n",
        "\n",
        "            # x*S*u**(col-row)*d**(row) - x*K\n",
        "\n",
        "            # move backwards from previous payoffs \n",
        "            Su = crrPrice[row, col+1]\n",
        "            Sd = crrPrice[row+1, col+1]\n",
        "\n",
        "            # Determine continuation value \n",
        "            continuation = math.exp(-r*dt)*(p*Su + (1-p)*Sd)\n",
        "        \n",
        "            # Calcuate price on tree\n",
        "            # crrPrice[row, col] = math.exp(-r*dt)*(p*Su + (1-p)*Sd)  \n",
        "            crrPrice[row, col] = max(continuation, earlyExercise)\n",
        "\n",
        "    # Added code for printing and de-bugging \n",
        "\n",
        "    # Reporting the model parameters\n",
        "    print()\n",
        "    print(\"Inputs:\\n\")\n",
        "    print(\"T : \" \"{:4.2f}\".format(T*12) + \" months\")\n",
        "    print(\"t : \" \"{:4.0f}\".format(t) + \" periods\")\n",
        "\n",
        "    print()\n",
        "    print(\"Tree Parameters:\\n\")\n",
        "    print(\"u : \" \"{:3.4f}\".format(u))\n",
        "    print(\"d : \" \"{:3.4f}\".format(d))\n",
        "    print(\"p : \" \"{:3.3f}\".format(p))\n",
        "\n",
        "    # Print the stock price tree    \n",
        "    print(\"\\nCRR Stock Price Tree:\\n\")\n",
        "    \n",
        "    # for i in range(0,len(crrTree)):\n",
        "    #     print(\"t = \" \"{:2.2f}\".format(i), end =\" \")\n",
        "    # print(\"\\n\")\n",
        "\n",
        "    for i in crrTree:\n",
        "        for j in i:\n",
        "            print(\"{:8.3f}\".format(j), end=\" \")\n",
        "        print() \n",
        "    print(\"\\n\")\n",
        "\n",
        "    # print the stock price tree    \n",
        "    print(\"\\nCRR Option Price Tree:\\n\")\n",
        "    for i in crrPrice:\n",
        "        for j in i:\n",
        "            print(\"{:8.3f}\".format(j), end=\" \")\n",
        "        print() \n",
        "    print(\"\\n\")\n",
        "\n",
        "    print(\"Option Price: $\" + \"{:6.2f}\".format(crrPrice[0,0]))\n",
        "    print(\"______________________________________________________________\")\n",
        "\n"
      ],
      "execution_count": 6,
      "outputs": []
    },
    {
      "cell_type": "markdown",
      "metadata": {
        "id": "GrWOJd7Eg1Yu"
      },
      "source": [
        "## American Airlines\n",
        "\n",
        "American Airlines Group Inc., through its subsidiaries, operates as a network air carrier. The company provides scheduled air transportation services for passengers and cargo"
      ]
    },
    {
      "cell_type": "code",
      "metadata": {
        "colab": {
          "base_uri": "https://localhost:8080/"
        },
        "id": "e32myE1lgxce",
        "outputId": "bfd1f7c4-34d3-45cf-ef8a-be2ef416009c"
      },
      "source": [
        "# American Airlines european call option\n",
        "# Date: May 14th, 2021\n",
        "# Maturity: July 16th, 2021\n",
        "\n",
        "yahoo_price = 1.38\n",
        "\n",
        "crr_price = crr_binomial_tree(22.17, 23.00, 0.002, 2/12, 150, 0.4736, 'euro', 'call')\n",
        "bs_price  =     black_scholes(22.17, 23.00, 0.002, 2/12, 150, 0.4736, 'euro', 'call')\n",
        "print(\"________________________________________________________________\\n\")\n",
        "print(\"American Airlines Group Inc.\")\n",
        "print()\n",
        "print(\"CRR European Call Price:    $\" + \"{:3.2f}\".format(crr_price))\n",
        "print(\"B-S European Call Price:    $\" + \"{:3.2f}\".format(bs_price))\n",
        "print(\"Yahoo European Call Price:  $\" + \"{:3.2f}\".format(yahoo_price))\n",
        "print(\"________________________________________________________________\\n\")"
      ],
      "execution_count": 19,
      "outputs": [
        {
          "output_type": "stream",
          "text": [
            "________________________________________________________________\n",
            "\n",
            "American Airlines Group Inc.\n",
            "\n",
            "CRR European Call Price:    $1.36\n",
            "B-S European Call Price:    $1.36\n",
            "Yahoo European Call Price:  $1.38\n",
            "________________________________________________________________\n",
            "\n"
          ],
          "name": "stdout"
        }
      ]
    },
    {
      "cell_type": "code",
      "metadata": {
        "colab": {
          "base_uri": "https://localhost:8080/"
        },
        "id": "fq48n5x0jDtV",
        "outputId": "552223b8-4032-42c3-f4d0-4150a3022a03"
      },
      "source": [
        "crr_visualize_tree(22.17, 23.00, 0.002, 2/12, 10, 0.4736, 'euro', 'call')"
      ],
      "execution_count": 23,
      "outputs": [
        {
          "output_type": "stream",
          "text": [
            "\n",
            "Inputs:\n",
            "\n",
            "T : 2.00 months\n",
            "t :   10 periods\n",
            "\n",
            "Tree Parameters:\n",
            "\n",
            "u : 1.0630\n",
            "d : 0.9407\n",
            "p : 0.485\n",
            "\n",
            "CRR Stock Price Tree:\n",
            "\n",
            "  22.170   23.568   25.054   26.633   28.313   30.098   31.995   34.013   36.157   38.437   40.860 \n",
            "     nan   20.855   22.170   23.568   25.054   26.633   28.313   30.098   31.995   34.013   36.157 \n",
            "     nan      nan   19.618   20.855   22.170   23.568   25.054   26.633   28.313   30.098   31.995 \n",
            "     nan      nan      nan   18.455   19.618   20.855   22.170   23.568   25.054   26.633   28.313 \n",
            "     nan      nan      nan      nan   17.360   18.455   19.618   20.855   22.170   23.568   25.054 \n",
            "     nan      nan      nan      nan      nan   16.330   17.360   18.455   19.618   20.855   22.170 \n",
            "     nan      nan      nan      nan      nan      nan   15.362   16.330   17.360   18.455   19.618 \n",
            "     nan      nan      nan      nan      nan      nan      nan   14.451   15.362   16.330   17.360 \n",
            "     nan      nan      nan      nan      nan      nan      nan      nan   13.594   14.451   15.362 \n",
            "     nan      nan      nan      nan      nan      nan      nan      nan      nan   12.787   13.594 \n",
            "     nan      nan      nan      nan      nan      nan      nan      nan      nan      nan   12.029 \n",
            "\n",
            "\n",
            "\n",
            "CRR Option Price Tree:\n",
            "\n",
            "   1.386    2.036    2.915    4.056    5.468    7.132    8.998   11.015   13.159   15.437   17.860 \n",
            "     nan    0.774    1.209    1.842    2.726    3.901    5.374    7.100    8.997   11.013   13.157 \n",
            "     nan      nan    0.364    0.613    1.009    1.619    2.515    3.749    5.314    7.098    8.995 \n",
            "     nan      nan      nan    0.130    0.239    0.435    0.776    1.352    2.275    3.634    5.313 \n",
            "     nan      nan      nan      nan    0.027    0.055    0.114    0.234    0.483    0.996    2.054 \n",
            "     nan      nan      nan      nan      nan    0.000    0.000    0.000    0.000    0.000    0.000 \n",
            "     nan      nan      nan      nan      nan      nan    0.000    0.000    0.000    0.000    0.000 \n",
            "     nan      nan      nan      nan      nan      nan      nan    0.000    0.000    0.000    0.000 \n",
            "     nan      nan      nan      nan      nan      nan      nan      nan    0.000    0.000    0.000 \n",
            "     nan      nan      nan      nan      nan      nan      nan      nan      nan    0.000    0.000 \n",
            "     nan      nan      nan      nan      nan      nan      nan      nan      nan      nan    0.000 \n",
            "\n",
            "\n",
            "Option Price: $  1.39\n",
            "______________________________________________________________\n"
          ],
          "name": "stdout"
        }
      ]
    },
    {
      "cell_type": "markdown",
      "metadata": {
        "id": "-CGYe3AQgZa2"
      },
      "source": [
        "### Test Black-Scholes for Puts"
      ]
    },
    {
      "cell_type": "markdown",
      "metadata": {
        "id": "ApE5Bghkgdgc"
      },
      "source": [
        "### Graph of Option Price Convergence "
      ]
    },
    {
      "cell_type": "code",
      "metadata": {
        "colab": {
          "base_uri": "https://localhost:8080/",
          "height": 622
        },
        "id": "swTF8Xztc5dV",
        "outputId": "044c9add-37da-4182-a1ef-0f0dc204adcd"
      },
      "source": [
        "\n",
        "n = 20\n",
        "\n",
        "# Model Parameters \n",
        "S = 20\n",
        "K = 18\n",
        "r = 0.15\n",
        "T = 12/12\n",
        "v = 0.80\n",
        "style = 'euro'\n",
        "type  = 'call'\n",
        "\n",
        "# Initialize area \n",
        "optionPrices = np.empty((20,3))\n",
        "\n",
        "# Populate array\n",
        "for i in range(0,n):\n",
        "    steps = (i+1)*10 \n",
        "    optionPrices[i, 0] = steps\n",
        "    optionPrices[i, 1] = crr_binomial_tree(S, K, r, T, steps, v, style, type)\n",
        "    optionPrices[i, 2] = black_scholes(S, K, r, T, steps, v, style, type)\n",
        "\n",
        "\n",
        "print(optionPrices)\n",
        "print(optionPrices[2,0]+1)\n",
        "\n",
        "plt.plot(optionPrices[:,0],optionPrices[:,1], label='CRR Price')\n",
        "plt.plot(optionPrices[:,0],optionPrices[:,2], label='B-S Price')\n",
        "plt.show()\n"
      ],
      "execution_count": null,
      "outputs": [
        {
          "output_type": "stream",
          "text": [
            "[[ 10.           8.05591434   8.03230975]\n",
            " [ 20.           8.06642257   8.03230975]\n",
            " [ 30.           8.06306916   8.03230975]\n",
            " [ 40.           8.0587187    8.03230975]\n",
            " [ 50.           8.05474209   8.03230975]\n",
            " [ 60.           8.05128295   8.03230975]\n",
            " [ 70.           8.04828775   8.03230975]\n",
            " [ 80.           8.04567833   8.03230975]\n",
            " [ 90.           8.04338524   8.03230975]\n",
            " [100.           8.04135229   8.03230975]\n",
            " [110.           8.0395351    8.03230975]\n",
            " [120.           8.03789863   8.03230975]\n",
            " [130.           8.03641504   8.03230975]\n",
            " [140.           8.035062     8.03230975]\n",
            " [150.           8.03382145   8.03230975]\n",
            " [160.           8.03267856   8.03230975]\n",
            " [170.           8.0316211    8.03230975]\n",
            " [180.           8.03063889   8.03230975]\n",
            " [190.           8.02972333   8.03230975]\n",
            " [200.           8.02886715   8.03230975]]\n",
            "31.0\n"
          ],
          "name": "stdout"
        },
        {
          "output_type": "display_data",
          "data": {
            "image/png": "[encoded data removed]",
            "text/plain": [
              "<Figure size 432x288 with 1 Axes>"
            ]
          },
          "metadata": {
            "tags": [],
            "needs_background": "light"
          }
        }
      ]
    },
    {
      "cell_type": "markdown",
      "metadata": {
        "id": "AIlw8Twx-vtu"
      },
      "source": [
        "## Calculating Option Prices"
      ]
    },
    {
      "cell_type": "markdown",
      "metadata": {
        "id": "0FOrncg--2Xe"
      },
      "source": [
        "### Monster Beverage Corp."
      ]
    },
    {
      "cell_type": "code",
      "metadata": {
        "colab": {
          "base_uri": "https://localhost:8080/"
        },
        "id": "CZMhEN2dXUPS",
        "outputId": "c565475d-c9f3-40b6-b920-b54a87f537df"
      },
      "source": [
        "# Monster Beverage \n",
        "crr_price = crr_binomial_tree(91.36, 95.00, 0.0007, 150/252, 800, 0.8218, 1)\n",
        "bs_price  =     black_scholes(91.36, 95.00, 0.0007, 150/252, 100, 0.8218, 1)\n",
        "print(\"________________________________________________________________\\n\")\n",
        "print(\"Monster Beverage Corp.\")\n",
        "print(\"Expiry: June 18th\")\n",
        "print(\"CRR European Call Price: $\" + \"{:3.3f}\".format(crr_price))\n",
        "print(\"B-S European Call Price: $\" + \"{:3.3f}\".format(bs_price))"
      ],
      "execution_count": null,
      "outputs": [
        {
          "output_type": "stream",
          "text": [
            "________________________________________________________________\n",
            "\n",
            "Monster Beverage Corp.\n",
            "Expiry: June 18th\n",
            "CRR European Call Price: $21.416\n",
            "B-S European Call Price: $21.417\n"
          ],
          "name": "stdout"
        }
      ]
    },
    {
      "cell_type": "markdown",
      "metadata": {
        "id": "KPleWZwn-8wV"
      },
      "source": [
        "## Carvana "
      ]
    },
    {
      "cell_type": "code",
      "metadata": {
        "id": "fUqyVltS-8Fn",
        "colab": {
          "base_uri": "https://localhost:8080/"
        },
        "outputId": "a420b433-2573-4d3e-8e7e-24a0e6624200"
      },
      "source": [
        "# Carvana \n",
        "crr_price = crr_binomial_tree(265.32, 267.50, 0.00063, 15/252, 100, 0.6065, 1)\n",
        "bs_price  =     black_scholes(265.32, 267.50, 0.00063, 15/252, 100, 0.6065, 1)\n",
        "print(\"________________________________________________________________\\n\")\n",
        "print(\"Carvana Co.\")\n",
        "print(\"Expiry: April 16th\")\n",
        "print(\"CRR European Call Price: $\" + \"{:3.2f}\".format(crr_price))\n",
        "print(\"B-S European Call Price: $\" + \"{:3.2f}\".format(bs_price))"
      ],
      "execution_count": null,
      "outputs": [
        {
          "output_type": "stream",
          "text": [
            "________________________________________________________________\n",
            "\n",
            "Carvana Co.\n",
            "Expiry: April 16th\n",
            "CRR European Call Price: $14.59\n",
            "B-S European Call Price: $14.65\n"
          ],
          "name": "stdout"
        }
      ]
    },
    {
      "cell_type": "code",
      "metadata": {
        "id": "O6aHM0V5k5CV"
      },
      "source": [
        "# Monster Beverage Call Option \n",
        "c\n",
        "bs_price = black_scholes(91.36, 93.00, 0.007, 50/252, 8, 0.8218, 1)\n",
        "print(\"________________________________________________________________\\n\")\n",
        "print(\"Monster Beverage Corp.\")\n",
        "print(\"Expiry: June 18th\")\n",
        "print(\"CRR European Call Price: $\" + \"{:3.2f}\".format(price))\n",
        "print(\"B-S European Call Price: $\" + \"{:3.2f}\".format(bs_price))\n",
        "print(\"________________________________________________________________\\n\")"
      ],
      "execution_count": null,
      "outputs": []
    },
    {
      "cell_type": "code",
      "metadata": {
        "id": "KkMdzQme331V"
      },
      "source": [
        "price = crr_build_tree(70, 70, 0.08, 3/12, 4, 0.09, -1)\n",
        "print(price)"
      ],
      "execution_count": null,
      "outputs": []
    },
    {
      "cell_type": "markdown",
      "metadata": {
        "id": "-knIpcQIjWTX"
      },
      "source": [
        "## Debugging Pricing Code \n",
        "\n",
        "Use some provided examples from coursework online to verify results \n",
        "for European and American pricing. "
      ]
    },
    {
      "cell_type": "code",
      "metadata": {
        "id": "xyB44US3Va3L",
        "colab": {
          "base_uri": "https://localhost:8080/"
        },
        "outputId": "8a89f9a6-1f39-41c4-eaf9-6780c2c1db5c"
      },
      "source": [
        "# Ficticious example from practice question documents (Problem 18.12)\n",
        "# \n",
        "crr_visualize_tree(20, 18, 0.15, 12/12, 4, 0.40, 'amer', 'put')\n",
        "crr_visualize_tree(20, 18, 0.15, 12/12, 4, 0.40, 'euro', 'put')"
      ],
      "execution_count": 26,
      "outputs": [
        {
          "output_type": "stream",
          "text": [
            "\n",
            "Inputs:\n",
            "\n",
            "T : 12.00 months\n",
            "t :    4 periods\n",
            "\n",
            "Tree Parameters:\n",
            "\n",
            "u : 1.2214\n",
            "d : 0.8187\n",
            "p : 0.545\n",
            "\n",
            "CRR Stock Price Tree:\n",
            "\n",
            "  20.000   24.428   29.836   36.442   44.511 \n",
            "     nan   16.375   20.000   24.428   29.836 \n",
            "     nan      nan   13.406   16.375   20.000 \n",
            "     nan      nan      nan   10.976   13.406 \n",
            "     nan      nan      nan      nan    8.987 \n",
            "\n",
            "\n",
            "\n",
            "CRR Option Price Tree:\n",
            "\n",
            "   1.288    0.387    0.000    0.000    0.000 \n",
            "     nan    2.476    0.882    0.000    0.000 \n",
            "     nan      nan    4.594    2.013    0.000 \n",
            "     nan      nan      nan    7.024    4.594 \n",
            "     nan      nan      nan      nan    9.013 \n",
            "\n",
            "\n",
            "Option Price: $  1.29\n",
            "______________________________________________________________\n",
            "\n",
            "Inputs:\n",
            "\n",
            "T : 12.00 months\n",
            "t :    4 periods\n",
            "\n",
            "Tree Parameters:\n",
            "\n",
            "u : 1.2214\n",
            "d : 0.8187\n",
            "p : 0.545\n",
            "\n",
            "CRR Stock Price Tree:\n",
            "\n",
            "  20.000   24.428   29.836   36.442   44.511 \n",
            "     nan   16.375   20.000   24.428   29.836 \n",
            "     nan      nan   13.406   16.375   20.000 \n",
            "     nan      nan      nan   10.976   13.406 \n",
            "     nan      nan      nan      nan    8.987 \n",
            "\n",
            "\n",
            "\n",
            "CRR Option Price Tree:\n",
            "\n",
            "   1.144    0.387    0.000    0.000    0.000 \n",
            "     nan    2.148    0.882    0.000    0.000 \n",
            "     nan      nan    3.844    2.013    0.000 \n",
            "     nan      nan      nan    6.361    4.594 \n",
            "     nan      nan      nan      nan    9.013 \n",
            "\n",
            "\n",
            "Option Price: $  1.14\n",
            "______________________________________________________________\n"
          ],
          "name": "stdout"
        }
      ]
    },
    {
      "cell_type": "code",
      "metadata": {
        "colab": {
          "base_uri": "https://localhost:8080/"
        },
        "id": "ZnSfMf4KgXId",
        "outputId": "a02744f3-e77c-4c22-d83c-ceba780b5054"
      },
      "source": [
        "\n",
        "crr = crr_binomial_tree(20, 18, 0.15, 12/12, 50, 0.40, 'euro', 'put')\n",
        "bs = black_scholes(20, 18, 0.15, 12/12, 4, 0.40, 'euro', 'put')\n",
        "print(bs)\n",
        "print(crr)"
      ],
      "execution_count": null,
      "outputs": [
        {
          "output_type": "stream",
          "text": [
            "1.1030371926735958\n",
            "1.0966293266078704\n"
          ],
          "name": "stdout"
        }
      ]
    },
    {
      "cell_type": "code",
      "metadata": {
        "colab": {
          "base_uri": "https://localhost:8080/"
        },
        "id": "8NHqflUij_R1",
        "outputId": "76708eff-b465-47c6-9a1d-329ef3052856"
      },
      "source": [
        "p1 = crr_binomial_tree(20, 18, 0.15, 12/12, 4, 0.40, 'euro', 'put')\n",
        "p2 = crr_binomial_tree(20, 18, 0.15, 12/12, 4, 0.40, 'amer', 'put')\n",
        "print(p1)\n",
        "print(p2)"
      ],
      "execution_count": 25,
      "outputs": [
        {
          "output_type": "stream",
          "text": [
            "1.1439727281792482\n",
            "1.2878611847241705\n"
          ],
          "name": "stdout"
        }
      ]
    }
  ]
}